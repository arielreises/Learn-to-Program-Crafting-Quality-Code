{
  "nbformat": 4,
  "nbformat_minor": 0,
  "metadata": {
    "colab": {
      "provenance": [],
      "toc_visible": true
    },
    "kernelspec": {
      "name": "python3",
      "display_name": "Python 3"
    },
    "language_info": {
      "name": "python"
    }
  },
  "cells": [
    {
      "cell_type": "markdown",
      "source": [
        "# **University of Toronto**\n",
        "### Learn to Program: Crafting Quality Code"
      ],
      "metadata": {
        "id": "lCqlbQktpk3t"
      }
    },
    {
      "cell_type": "markdown",
      "source": [
        "## Week 3 Excercises"
      ],
      "metadata": {
        "id": "j9ZYdVGZHzFL"
      }
    },
    {
      "cell_type": "markdown",
      "source": [
        "### **Exercise 1** ✅"
      ],
      "metadata": {
        "id": "uGo_PLopH9Ya"
      }
    },
    {
      "cell_type": "markdown",
      "source": [
        "Consider this code:\n",
        "\n",
        "```\n",
        "for i in range(m):\n",
        "    for j in range(n):\n",
        "        print()\n",
        "```\n",
        "How many times is function `print` called?\n"
      ],
      "metadata": {
        "id": "KDg7HyblIYDc"
      }
    },
    {
      "cell_type": "code",
      "source": [
        "# m * n"
      ],
      "metadata": {
        "id": "JHSi_b7FI7yh"
      },
      "execution_count": null,
      "outputs": []
    },
    {
      "cell_type": "markdown",
      "source": [
        "### **Exercise 2**  ✅"
      ],
      "metadata": {
        "id": "VfnFw1IVH9t7"
      }
    },
    {
      "cell_type": "markdown",
      "source": [
        "Consider this code:\n",
        "\n",
        "```\n",
        "for i in range(m):\n",
        "    print()\n",
        "\n",
        "for j in range(n):\n",
        "    print()\n",
        "```\n",
        "\n",
        "How many times is function `print` called?\n"
      ],
      "metadata": {
        "id": "FJwd6wu9JAFB"
      }
    },
    {
      "cell_type": "code",
      "source": [
        "# m + n"
      ],
      "metadata": {
        "id": "dtdkxcU0JXuy"
      },
      "execution_count": null,
      "outputs": []
    },
    {
      "cell_type": "markdown",
      "source": [
        "### **Exercise 3** ✅"
      ],
      "metadata": {
        "id": "k4ff4PQcH-D6"
      }
    },
    {
      "cell_type": "markdown",
      "source": [
        "Assume variable `L` refers to a list of items.\n",
        "\n",
        "You have a problem you are trying to solve and you figured out two different approaches that would work.\n",
        "\n",
        "```\n",
        "# Approach 1:\n",
        "for i in range(len(L)):\n",
        "    for j in range(len(L)):\n",
        "        # do a few assignment statements to accomplish the task.\n",
        "```\n",
        "```\n",
        "# Approach 2:\n",
        "for i in range(1000):\n",
        "    for j in range(len(L)):\n",
        "        # do a few assignment statements to accomplish the task.\n",
        "```\n",
        "\n",
        "When would **Approach 2** take fewer iterations than **Approach 1**?\n"
      ],
      "metadata": {
        "id": "fMZkSs9SJyrp"
      }
    },
    {
      "cell_type": "code",
      "source": [
        "# When L has more than 1000 items."
      ],
      "metadata": {
        "id": "I7Qpk3TiKOEx"
      },
      "execution_count": null,
      "outputs": []
    },
    {
      "cell_type": "markdown",
      "source": [
        "### **Exercise 4** ✅"
      ],
      "metadata": {
        "id": "_2nlZagrH-f7"
      }
    },
    {
      "cell_type": "markdown",
      "source": [
        "For linear search, if we are searching for `7`, which list will cause the fewest number of iterations?"
      ],
      "metadata": {
        "id": "7sPoK4zoKWyS"
      }
    },
    {
      "cell_type": "code",
      "source": [
        "[7, 6, 5, 4, 3, 2]"
      ],
      "metadata": {
        "id": "C2F92v9dKqDv"
      },
      "execution_count": 1,
      "outputs": []
    },
    {
      "cell_type": "markdown",
      "source": [
        "### **Exercise 5** ✅"
      ],
      "metadata": {
        "id": "8Dx9NE8XH-2q"
      }
    },
    {
      "cell_type": "markdown",
      "source": [
        "The list `[4, 2, 5, 6, 7, 3, 1]` is shown below after each pass of a sorting algorithm:\n",
        "\n",
        "```\n",
        "[1, 2, 5, 6, 7, 3, 4]\n",
        "[1, 2, 5, 6, 7, 3, 4]\n",
        "[1, 2, 3, 6, 7, 5, 4]\n",
        "[1, 2, 3, 4, 7, 5, 6]\n",
        "[1, 2, 3, 4, 5, 7, 6]\n",
        "[1, 2, 3, 4, 5, 6, 7]\n",
        "[1, 2, 3, 4, 5, 6, 7]\n",
        "```\n",
        "\n",
        "Which sorting algorithm is being executed?"
      ],
      "metadata": {
        "id": "L3ms9YPCKu6f"
      }
    },
    {
      "cell_type": "code",
      "source": [
        "# selection sort"
      ],
      "metadata": {
        "id": "mxELEFvuLCrI"
      },
      "execution_count": null,
      "outputs": []
    },
    {
      "cell_type": "markdown",
      "source": [
        "### **Exercise 6** ✅"
      ],
      "metadata": {
        "id": "0Zq5NYqIH_nS"
      }
    },
    {
      "cell_type": "markdown",
      "source": [
        "The list `[4, 2, 5, 6, 7, 3, 1]` is shown below after each pass of a sorting algorithm:\n",
        "\n",
        "```\n",
        "[2, 4, 5, 6, 3, 1, 7]\n",
        "[2, 4, 5, 3, 1, 6, 7]\n",
        "[2, 4, 3, 1, 5, 6, 7]\n",
        "[2, 3, 1, 4, 5, 6, 7]\n",
        "[2, 1, 3, 4, 5, 6, 7]\n",
        "[1, 2, 3, 4, 5, 6, 7]\n",
        "```\n",
        "Which sorting algorithm is being executed?\n",
        "\n"
      ],
      "metadata": {
        "id": "8hn_tyx_LVVn"
      }
    },
    {
      "cell_type": "code",
      "source": [
        "# bubble sort"
      ],
      "metadata": {
        "id": "HxWlXj5DLn8c"
      },
      "execution_count": null,
      "outputs": []
    },
    {
      "cell_type": "markdown",
      "source": [
        "### **Exercise 7** ✅"
      ],
      "metadata": {
        "id": "ODM8hJfhH_4T"
      }
    },
    {
      "cell_type": "markdown",
      "source": [
        "The list `[4, 2, 5, 6, 7, 3, 1]` is shown below after each pass of a sorting algorithm:\n",
        "\n",
        "```\n",
        "[4, 2, 5, 6, 7, 3, 1]\n",
        "[2, 4, 5, 6, 7, 3, 1]\n",
        "[2, 4, 5, 6, 7, 3, 1]\n",
        "[2, 4, 5, 6, 7, 3, 1]\n",
        "[2, 4, 5, 6, 7, 3, 1]\n",
        "[2, 3, 4, 5, 6, 7, 1]\n",
        "[1, 2, 3, 4, 5, 6, 7]\n",
        "```\n",
        "\n",
        "Which sorting algorithm is being executed?"
      ],
      "metadata": {
        "id": "waMilJIFLrL8"
      }
    },
    {
      "cell_type": "code",
      "source": [
        "# insertion sort"
      ],
      "metadata": {
        "id": "-Z9F9xltME4n"
      },
      "execution_count": null,
      "outputs": []
    },
    {
      "cell_type": "markdown",
      "source": [
        "### **Exercise 8** ✅"
      ],
      "metadata": {
        "id": "jAV04nVXIAKd"
      }
    },
    {
      "cell_type": "markdown",
      "source": [
        "List `[1, 5, 8, 7, 6, 1, 7]` is being sorted using selection sort.  Here is what the list will look like after each of the first three passes:\n",
        "\n",
        "* After the 1st pass:\n",
        "[1, 5, 8, 7, 6, 1, 7]\n",
        "\n",
        "* After the 2nd pass:\n",
        "[1, 1, 8, 7, 6, 5, 7]\n",
        "\n",
        "* After the 3rd pass:\n",
        "[1, 1, 5, 7, 6, 8, 7]\n",
        "\n",
        "What will the list look like after the 4th pass?"
      ],
      "metadata": {
        "id": "ZSffdmZXLrmH"
      }
    },
    {
      "cell_type": "code",
      "source": [
        "[1, 1, 5, 6, 7, 8, 7]"
      ],
      "metadata": {
        "id": "HFjgoGUlMfKH"
      },
      "execution_count": null,
      "outputs": []
    },
    {
      "cell_type": "markdown",
      "source": [
        "### **Exercise 9** ✅"
      ],
      "metadata": {
        "id": "LLBHYMYZICSL"
      }
    },
    {
      "cell_type": "markdown",
      "source": [
        "List `[6, 8, 2, 1, 1, 9, 4]` is being sorted using insertion sort.  Here is what the list will look like after each of the first three passes:\n",
        "\n",
        "* After the 1st pass:\n",
        "[6, 8, 2, 1, 1, 9, 4]\n",
        "\n",
        "* After the 2nd pass:\n",
        "[6, 8, 2, 1, 1, 9, 4]\n",
        "\n",
        "* After the 3rd pass:\n",
        "[2, 6, 8, 1, 1, 9, 4]\n",
        "\n",
        "What will the list look like after the 4th pass?"
      ],
      "metadata": {
        "id": "K8diTlHdLr-P"
      }
    },
    {
      "cell_type": "code",
      "source": [
        "# [1, 1, 2, 6, 8, 9, 4]\n",
        "[1, 2, 6, 8, 1, 9, 4]"
      ],
      "metadata": {
        "id": "LB7v0VDiM1Eu"
      },
      "execution_count": null,
      "outputs": []
    },
    {
      "cell_type": "markdown",
      "source": [
        "### **Exercise 10** ✅"
      ],
      "metadata": {
        "id": "724K8n6eIDBz"
      }
    },
    {
      "cell_type": "markdown",
      "source": [
        "In **bubble sort**, on the first pass through the list, which item gets moved to the far right?"
      ],
      "metadata": {
        "id": "DV64Q_j2LsVf"
      }
    },
    {
      "cell_type": "code",
      "source": [
        "# The largest item."
      ],
      "metadata": {
        "id": "R7-aH8n8NJ8A"
      },
      "execution_count": null,
      "outputs": []
    },
    {
      "cell_type": "markdown",
      "source": [
        "### **Exercise 11** ✅"
      ],
      "metadata": {
        "id": "sjHu5M0qIDjS"
      }
    },
    {
      "cell_type": "markdown",
      "source": [
        "Here is the code for function `insert` with docstring and comments removed:\n",
        "\n",
        "```\n",
        "def insert(L, i):\n",
        "    value = L[i]\n",
        "\n",
        "    j = i\n",
        "    while j != 0 and L[j - 1] > value:\n",
        "        L[j] = L[j - 1]\n",
        "        j = j - 1\n",
        "\n",
        "    L[j] = value\n",
        "```\n",
        "In the following list, there is an `x` at index\n",
        "`5`.  In this question, you will choose a value for that variable\n",
        "\n",
        "```\n",
        "L = [2, 5, 6, 7, 8, x, 4]\n",
        "```\n",
        "The first 5 items are sorted.\n",
        "\n",
        "If we call `insert(L, 5)`, that unknown value will be inserted into the sorted section, growing the sorted section by 1 item.  Select a value for `x` that would be moved all the way to index `0` in the list.\n",
        "\n"
      ],
      "metadata": {
        "id": "vMOcnV26LsvP"
      }
    },
    {
      "cell_type": "code",
      "source": [
        "# 1"
      ],
      "metadata": {
        "id": "9QyZUQoSOGSl"
      },
      "execution_count": null,
      "outputs": []
    },
    {
      "cell_type": "markdown",
      "source": [
        "### **Exercise 12** ✅"
      ],
      "metadata": {
        "id": "cAHzMB2-ID3r"
      }
    },
    {
      "cell_type": "markdown",
      "source": [
        "Here is the code for function `insert` with docstring and comments removed:\n",
        "\n",
        "```\n",
        "def insert(L, i):\n",
        "    value = L[i]\n",
        "\n",
        "    j = i\n",
        "    while j != 0 and L[j - 1] > value:\n",
        "        L[j] = L[j - 1]\n",
        "        j = j - 1\n",
        "\n",
        "    L[j] = value\n",
        "```\n",
        "In the following list, there is an `x` at index `5`.  In this question, you will choose a value for that variable.\n",
        "\n",
        "```\n",
        "L = [2, 5, 6, 7, 8, x, 4]\n",
        "```\n",
        "\n",
        "The first 5 items are sorted.\n",
        "\n",
        "If we call `insert(L, 5)`, that unknown value will be inserted into the sorted section, growing the sorted section by 1 item.  Select the value for `x` that would not move.\n"
      ],
      "metadata": {
        "id": "tbyjEd23LtHv"
      }
    },
    {
      "cell_type": "code",
      "source": [
        "# 9"
      ],
      "metadata": {
        "id": "uPaR1LfiOrjo"
      },
      "execution_count": null,
      "outputs": []
    },
    {
      "cell_type": "markdown",
      "source": [
        "### **Exercise 13** ✅"
      ],
      "metadata": {
        "id": "GK0BAAfrIEgK"
      }
    },
    {
      "cell_type": "markdown",
      "source": [
        "Here is the code for function `insert` with docstring and comments removed:\n",
        "\n",
        "```\n",
        "def insert(L, i):\n",
        "    value = L[i]\n",
        "\n",
        "    j = i\n",
        "    while j != 0 and L[j - 1] > value:\n",
        "        L[j] = L[j - 1]\n",
        "        j = j - 1\n",
        "\n",
        "    L[j] = value\n",
        "```\n",
        "In general, function call `insert(L, i)` might move the item at index `i` all the way to index `0` in the list (if that item is smaller than everything in the sorted section); it might not move it at all (if that item is larger than everything in the sorted section); or it might be moved partway (if that item is neither smaller nor larger than everything in the sorted section).\n",
        "\n",
        "The while loop can be terminated for one of two reasons: `j == 0` or\n",
        "`L[j - 1] <= value`.  In which situation does the loop terminate because\n",
        "`j == 0`?\n"
      ],
      "metadata": {
        "id": "xtujO9eMLtgv"
      }
    },
    {
      "cell_type": "code",
      "source": [
        "# When the item at index i is smaller than everything in the sorted section."
      ],
      "metadata": {
        "id": "4dTzzU1bPcwE"
      },
      "execution_count": null,
      "outputs": []
    },
    {
      "cell_type": "markdown",
      "source": [
        "### **Exercise 14**"
      ],
      "metadata": {
        "id": "TPIPtmvEIEyk"
      }
    },
    {
      "cell_type": "markdown",
      "source": [
        "Here is the code for function `insert`:\n",
        "\n",
        "```\n",
        "def insert(L, i):\n",
        "    value = L[i]\n",
        "\n",
        "    j = i\n",
        "    while j != 0 and L[j - 1] > value:\n",
        "        L[j] = L[j - 1]\n",
        "        j = j - 1\n",
        "\n",
        "   L[j] = value\n",
        "```\n",
        "For function call `insert(L, i)`, in the worst case, the item at index i is moved all the way to index `0`.  Variable `j`starts off at `i` and is decreased by 1 on each iteration of the while loop until it reaches `0`.\n",
        "\n",
        "In this worst-case situation, how many times is the body of the while loop executed?\n"
      ],
      "metadata": {
        "id": "mfKAIZ0YLt_f"
      }
    },
    {
      "cell_type": "code",
      "source": [
        "# i"
      ],
      "metadata": {
        "id": "oxHucs4zQInL"
      },
      "execution_count": null,
      "outputs": []
    },
    {
      "cell_type": "markdown",
      "source": [
        "### **Exercise 15** ✅"
      ],
      "metadata": {
        "id": "KRTSdQJEIFZC"
      }
    },
    {
      "cell_type": "markdown",
      "source": [
        "Here is the code for function `insertion_sort`:\n",
        "\n",
        "```\n",
        "def insertion_sort(L):\n",
        "    for i in range(len(L)):\n",
        "        insert(L, i)\n",
        "```\n",
        "This question is about the *worst-case* running time for this code.  (The worst case for insertion sort happens when a list is sorted in reverse, from largest to smallest.)\n",
        "\n",
        "* On the first iteration of this loop, `i` refers to `0`, so `insert(L, 0)` is called, and the while loop in function `insert` iterates 0 times.\n",
        "\n",
        "* On the second iteration, `insert(L, 1)` is called, and the while loop in function `insert` iterates 1  time.\n",
        "\n",
        "* On the last iteration, `insert(L, len(L) - 1)` is called, and the while loop in function `insert` iterates `len(L) - 1` times.\n"
      ],
      "metadata": {
        "id": "1B-YW6zKLuXg"
      }
    },
    {
      "cell_type": "code",
      "source": [
        "# 0 + 1 + ... + len(L) - 1"
      ],
      "metadata": {
        "id": "O6nJIjULQ8mC"
      },
      "execution_count": null,
      "outputs": []
    },
    {
      "cell_type": "markdown",
      "source": [
        "### **Exercise 16** ✅"
      ],
      "metadata": {
        "id": "41d_lhIxIFqK"
      }
    },
    {
      "cell_type": "markdown",
      "source": [
        "In the worst case, on a call on function `insertion_sort(L)`, the total number of times the loop body in function `insert` is executed is this:\n",
        "\n",
        "```\n",
        "0 + 1 + 2 + 3 + ... + (len(L) - 3) + (len(L) - 2) + (len(L) - 1)\n",
        "```\n",
        "The 0 doesn't affect the sum, so we can simplify to this:\n",
        "\n",
        "```\n",
        "1 + 2 + 3 + ... + (len(L) - 3) + (len(L) - 2) + (len(L) - 1)\n",
        "```\n",
        "We can add the first and last items together, and the second and second-last items together, and so on:\n",
        "\n",
        "```\n",
        "1 + (len(L) - 1)    # The 1 and the -1 cancel, leaving len(L)\n",
        "+ 2 + (len(L) - 2)    # The 2 and the -2 cancel, leaving len(L)\n",
        "+ 3 + (len(L) - 3)    # The 3 and the -3 cancel, leaving len(L)+ ...\n",
        "```\n",
        "Every line in the equation adds up to `len(L)`.\n",
        "\n",
        "***Roughly*** how many lines in the equation are there, and what is the total number of times the loop body is executed?\n",
        "\n",
        "(Hint: work this out using a smaller example, such as a length **9** list, and then generalize.)\n",
        "\n",
        "\n"
      ],
      "metadata": {
        "id": "7Rr_Y2gxLu1n"
      }
    },
    {
      "cell_type": "code",
      "source": [
        "# Number of lines:\n",
        "# len(L) / 2\n",
        "\n",
        "# Total number of times the loop body is executed:\n",
        "# len(L) * len(L) / 2"
      ],
      "metadata": {
        "id": "3eGm3ufORp3y"
      },
      "execution_count": null,
      "outputs": []
    },
    {
      "cell_type": "markdown",
      "source": [
        "### **Exercise 17** ✅"
      ],
      "metadata": {
        "id": "BgPYpG3xIF-q"
      }
    },
    {
      "cell_type": "markdown",
      "source": [
        "For a call on function `insertion_sort(L)`, in the worst case, select the running time:"
      ],
      "metadata": {
        "id": "OSG3rRttLvSZ"
      }
    },
    {
      "cell_type": "code",
      "source": [
        "# Quadratic in the length of list L."
      ],
      "metadata": {
        "id": "ebkDPBstSAUy"
      },
      "execution_count": null,
      "outputs": []
    },
    {
      "cell_type": "code",
      "source": [
        "Justification:\n",
        "\n",
        "Insertion sort is a sorting algorithm that works by repeatedly inserting each element into its correct position in the sorted portion of the list. In the worst case, when the list is sorted in reverse order, insertion sort has a quadratic time complexity, meaning that its running time is proportional to the square of the number of elements in the list.\n",
        "\n",
        "This can be analyzed by considering the number of times the insert function is called. In the worst case, each element in the list needs to be inserted into the beginning of the list, which results in the insert function being called n times for a list of length n.\n",
        "\n",
        "The insert function also has a worst-case quadratic time complexity, as it may need to iterate through the entire sorted portion of the list to find the correct position for the element being inserted. Therefore, the overall worst-case time complexity of insertion sort is quadratic in the length of the list.\n",
        "\n",
        "In contrast, linear time complexity means that the running time of the algorithm is directly proportional to the length of the input. For example, searching for an element in a sorted list using binary search has a linear time complexity.\n",
        "\n",
        "Hence, the running time of insertion sort is quadratic in the length of list L, and the correct answer is (C) Quadratic in the length of list L."
      ],
      "metadata": {
        "id": "L2HRJITKSDbi"
      },
      "execution_count": null,
      "outputs": []
    },
    {
      "cell_type": "markdown",
      "source": [
        "### **Exercise 18** ✅"
      ],
      "metadata": {
        "id": "8oigy-HLIGp6"
      }
    },
    {
      "cell_type": "markdown",
      "source": [
        "For a call on function `insertion_sort(L)`, in the best case (where list `L` is already sorted), how many times is the body of the while loop in function `insert` executed?"
      ],
      "metadata": {
        "id": "U9gMnaAJLvvP"
      }
    },
    {
      "cell_type": "code",
      "source": [
        "# 0"
      ],
      "metadata": {
        "id": "AtPdppckSZZp"
      },
      "execution_count": null,
      "outputs": []
    },
    {
      "cell_type": "code",
      "source": [
        "Justification:\n",
        "\n",
        "In the best case, when the list L is already sorted, the insert function will not need to move any elements, as each element is already in its correct position. Therefore, the while loop in the insert function will never execute, and the total number of times the body of the while loop is executed is 0.\n",
        "\n",
        "Here is an explanation of why the insert function will not need to move any elements:\n",
        "\n",
        "The insert function works by iterating through the sorted portion of the list from the end towards the beginning, swapping each element that is greater than the value being inserted to the right until the correct position for the value is found. However, if the list is already sorted, then no elements will be greater than the value being inserted, and therefore no swaps will need to be made. As a result, the while loop will never execute, and the insert function will simply return without modifying the list.\n",
        "\n",
        "Therefore, in the best case, when the list is already sorted, the body of the while loop in the insert function is executed 0 times."
      ],
      "metadata": {
        "id": "VxxXg7NGSbew"
      },
      "execution_count": null,
      "outputs": []
    }
  ]
}