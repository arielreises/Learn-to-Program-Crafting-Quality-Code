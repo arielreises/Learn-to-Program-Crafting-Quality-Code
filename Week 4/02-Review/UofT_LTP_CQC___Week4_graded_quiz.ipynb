{
  "nbformat": 4,
  "nbformat_minor": 0,
  "metadata": {
    "colab": {
      "provenance": [],
      "toc_visible": true
    },
    "kernelspec": {
      "name": "python3",
      "display_name": "Python 3"
    },
    "language_info": {
      "name": "python"
    }
  },
  "cells": [
    {
      "cell_type": "markdown",
      "source": [
        "# **University of Toronto**\n",
        "### Learn to Program: Crafting Quality Code"
      ],
      "metadata": {
        "id": "lCqlbQktpk3t"
      }
    },
    {
      "cell_type": "markdown",
      "source": [
        "## Week 4 Excercises"
      ],
      "metadata": {
        "id": "j9ZYdVGZHzFL"
      }
    },
    {
      "cell_type": "markdown",
      "source": [
        "### **Exercise 1** ✅"
      ],
      "metadata": {
        "id": "uGo_PLopH9Ya"
      }
    },
    {
      "cell_type": "markdown",
      "source": [
        "Consider this code:\n",
        "\n",
        "```\n",
        "class Contact:\n",
        "    \"\"\" A contact with a first name, a last name, and an email address. \"\"\"\n",
        "\n",
        "    def __init__(self, first_name, last_name, email_address):\n",
        "        \"\"\" (Contact, str, str, str) -> NoneType\n",
        "\n",
        "       Initialize this Contact with first name first_name, last name\n",
        "       last_name, and email address email_address.\n",
        "        \"\"\"\n",
        "\n",
        "       self.first_name = first_name\n",
        "       self.last_name = last_name\n",
        "       self.email_address = email_address\n",
        "```\n",
        "Select the code fragment(s) that create and initialize a `Contact` using the constructor (method `__init__`).\n"
      ],
      "metadata": {
        "id": "KDg7HyblIYDc"
      }
    },
    {
      "cell_type": "code",
      "source": [
        "# paul = Contact('Paul', 'Gries', 'paul@example.com')"
      ],
      "metadata": {
        "id": "JHSi_b7FI7yh"
      },
      "execution_count": null,
      "outputs": []
    },
    {
      "cell_type": "markdown",
      "source": [
        "### **Exercise 2**  ✅"
      ],
      "metadata": {
        "id": "VfnFw1IVH9t7"
      }
    },
    {
      "cell_type": "markdown",
      "source": [
        "This question uses class Contact from the previous question.\n",
        "\n",
        "Variable `jen` refers to a `Contact` object. Select the correct way to print `jen`'s email address.\n"
      ],
      "metadata": {
        "id": "FJwd6wu9JAFB"
      }
    },
    {
      "cell_type": "code",
      "source": [
        "# print(jen.email_address)"
      ],
      "metadata": {
        "id": "dtdkxcU0JXuy"
      },
      "execution_count": null,
      "outputs": []
    },
    {
      "cell_type": "markdown",
      "source": [
        "### **Exercise 3** ✅"
      ],
      "metadata": {
        "id": "k4ff4PQcH-D6"
      }
    },
    {
      "cell_type": "markdown",
      "source": [
        "This question uses class `Contact` from the previous questions.\n",
        "\n",
        "Another method has been added to class `Contact`:\n",
        "\n",
        "```\n",
        "def add_phone_number(self, telephone_num):\n",
        "    \"\"\" (Contact, str) -> NoneType\n",
        "\n",
        "    Add phone number telephone_num for this contact.\n",
        "    \"\"\"\n",
        "\n",
        "    self.phone_number = telephone_num\n",
        "```\n",
        "For a variable `khaled` that refers to a `Contact` object, which code fragment correctly calls method `add_phone_number`?\n"
      ],
      "metadata": {
        "id": "fMZkSs9SJyrp"
      }
    },
    {
      "cell_type": "code",
      "source": [
        "# khaled.add_phone_number('555-1111')"
      ],
      "metadata": {
        "id": "I7Qpk3TiKOEx"
      },
      "execution_count": null,
      "outputs": []
    },
    {
      "cell_type": "markdown",
      "source": [
        "### **Exercise 4** ✅"
      ],
      "metadata": {
        "id": "_2nlZagrH-f7"
      }
    },
    {
      "cell_type": "markdown",
      "source": [
        "This question uses class `Contact` from the previous questions, and also uses types `str`, `float`, and `list`.\n",
        "\n",
        "Here are several code fragments.  In each fragment, there is a pair of method calls.  In some pairs, the two method calls are equivalent to each other, and in the others, the two method calls are not equivalent to each other.  Select the code fragment(s) in which the method calls are equivalent to each other.\n",
        "\n",
        "Assume that variable `c` refers to a `Contact` and that variable `L` refers to a `list`."
      ],
      "metadata": {
        "id": "DzuNZXnv3vZ-"
      }
    },
    {
      "cell_type": "code",
      "source": [
        "# str.replace('abc 123', '123', '246')\n",
        "# 'abc 123'.replace('123', '246')\n",
        "\n",
        "'''\n",
        "-----------------------------------------\n",
        "'''\n",
        "\n",
        "# c.add_phone_number('555-1111')\n",
        "\n",
        "# Contact.add_phone_number(c, '555-1111')"
      ],
      "metadata": {
        "id": "rjly6lzD3vzs"
      },
      "execution_count": null,
      "outputs": []
    },
    {
      "cell_type": "markdown",
      "source": [
        "### **Exercise 5**"
      ],
      "metadata": {
        "id": "8Dx9NE8XH-2q"
      }
    },
    {
      "cell_type": "markdown",
      "source": [
        "This question uses class `Contact` from the previous questions.\n",
        "\n",
        "Variable `rorik` refers to a `Contact` object with instance variables `first_name`, `last_name` and `email_address` that refer to `’Rorik’`, `’Henrikson’` and `’rorik@example.com’` respectively.\n",
        "\n",
        "What is produced when `str(rorik)` is called?"
      ],
      "metadata": {
        "id": "jJMM1Ov33wZM"
      }
    },
    {
      "cell_type": "code",
      "source": [],
      "metadata": {
        "id": "bbqNZDoC3wwk"
      },
      "execution_count": null,
      "outputs": []
    },
    {
      "cell_type": "markdown",
      "source": [
        "### **Exercise 6** ✅"
      ],
      "metadata": {
        "id": "0Zq5NYqIH_nS"
      }
    },
    {
      "cell_type": "markdown",
      "source": [
        "This question uses class `Contact` from the previous questions.\n",
        "\n",
        "Another method has been added to class `Contact`:\n",
        "\n",
        "```\n",
        "def __str__(self):\n",
        "    \"\"\" (Contact) -> str\n",
        "\n",
        "   Return a string representation of this contact.\n",
        "   \"\"\"\n",
        "\n",
        "   return '{0} {1} <{2}>'.format(self.first_name,\n",
        "        self.last_name, self.email_address)\n",
        "```\n",
        "Variable `rorik` refers to a `Contact` object with instance variables `first_name`, `last_name`, and `email_address` that refer to `’Rorik’`, `’Henrikson’` and `’rorik@example.com’` respectively.\n",
        "\n",
        "What is produced when `str(rorik)` is called?\n"
      ],
      "metadata": {
        "id": "Yy2T28gP3xR8"
      }
    },
    {
      "cell_type": "code",
      "source": [
        "# ’Rorik Henrikson <rorik@example.com>’"
      ],
      "metadata": {
        "id": "r7dZQ_qp3xt0"
      },
      "execution_count": null,
      "outputs": []
    },
    {
      "cell_type": "markdown",
      "source": [
        "### **Exercise 7**"
      ],
      "metadata": {
        "id": "ODM8hJfhH_4T"
      }
    },
    {
      "cell_type": "markdown",
      "source": [
        "This question uses class `Contact` from the previous questions.\n",
        "\n",
        "Consider this code:\n",
        "\n",
        "```\n",
        "class Email:\n",
        "    \"\"\" An email with a list of recipients, a subject and a body. \"\"\"\n",
        "\n",
        "   def __init__(self, recipients, subject, body):\n",
        "       \"\"\" (Email, list of Contact, str, str) -> NoneType\n",
        "\n",
        "       Initialize this Email with recipients, subject and body.       \"\"\"\n",
        "\n",
        "       self.recipients = recipients\n",
        "       self.subject = subject\n",
        "       self.body = body\n",
        "```\n",
        "\n",
        "Which of the following can be used to create an `Email` object?\n",
        "\n"
      ],
      "metadata": {
        "id": "ATJFyITa3yU0"
      }
    },
    {
      "cell_type": "code",
      "source": [
        "# student1 = Contact('Hugh', 'Z.', 'hugh@fakedomain.com')\n",
        "\n",
        "# student2 = Contact('Kathryn', 'Z.', 'kathryn@fakedomain.com')\n",
        "\n",
        "# student3 = Contact('Karin', 'Z.', 'karin@fakedomain.com')\n",
        "\n",
        "# students = [student1, student2, student3]\n",
        "\n",
        "# subject = 'LTP2: E4 is posted!'\n",
        "\n",
        "# body = 'Hello,\\nE4 is posted. Good luck!\\n Paul and Jen'\n",
        "\n",
        "# new_email = Email(students, subject, body)"
      ],
      "metadata": {
        "id": "4Rw54fO93yn0"
      },
      "execution_count": null,
      "outputs": []
    },
    {
      "cell_type": "markdown",
      "source": [
        "### **Exercise 8** ✅"
      ],
      "metadata": {
        "id": "jAV04nVXIAKd"
      }
    },
    {
      "cell_type": "markdown",
      "source": [
        "This question uses classes `Contact` and `Email` from the previous questions.\n",
        "\n",
        "This method is added to class `Email`:\n",
        "\n",
        "```\n",
        "def __str__(self):\n",
        "    \"\"\" (Email) -> str\n",
        "\n",
        "    Return a string representation of this email.\n",
        "    \"\"\"\n",
        "\n",
        "    result = 'To: '\n",
        "    for contact in self.recipients:\n",
        "        result = result + '{0}, '.format(contact)\n",
        "\n",
        "    result = result + '\\nSubject: {0}'.format(self.subject)\n",
        "    result = result + '\\n{0}'.format(self.body)\n",
        "    return result\n",
        "```\n",
        "Variable `message` refers to an `Email` object created with:\n",
        "\n",
        "* recipients: `[Contact(’Paul’, ’Gries’, ’paul@example.com’), Contact(’Jen’, ’Campbell’, ’jen@example.com’)]`\n",
        "\n",
        "* subject: `’2nd MOOC’`, and\n",
        "\n",
        "* body `’Hi!\\nI hope your 2nd MOOC is going well!\\nBye :-)’`.\n",
        "\n",
        "What is printed when `print(message)` is executed?\n"
      ],
      "metadata": {
        "id": "dvwjDEib3zEk"
      }
    },
    {
      "cell_type": "code",
      "source": [
        "# To: Paul Gries <paul@example.com>, Jen Campbell <jen@example.com>,\n",
        "# Subject: 2nd MOOC\n",
        "# Hi!\n",
        "# I hope your 2nd MOOC is going well!\n",
        "# Bye :-)"
      ],
      "metadata": {
        "id": "YrLNNK9D3zX0"
      },
      "execution_count": null,
      "outputs": []
    },
    {
      "cell_type": "markdown",
      "source": [
        "### **Exercise 9** ✅"
      ],
      "metadata": {
        "id": "LLBHYMYZICSL"
      }
    },
    {
      "cell_type": "markdown",
      "source": [
        "Which of the following is `not` a special method of `object`?"
      ],
      "metadata": {
        "id": "V_o8J2Ew3z8M"
      }
    },
    {
      "cell_type": "code",
      "source": [
        "# __lower__"
      ],
      "metadata": {
        "id": "olyZmbon30NE"
      },
      "execution_count": null,
      "outputs": []
    },
    {
      "cell_type": "markdown",
      "source": [
        "### **Exercise 10** ✅"
      ],
      "metadata": {
        "id": "724K8n6eIDBz"
      }
    },
    {
      "cell_type": "markdown",
      "source": [
        "Consider this code:\n",
        "\n",
        "```\n",
        "class Author:\n",
        "   def __init__(self, name):\n",
        "       \"\"\" (______, str) -> NoneType \"\"\"\n",
        "       self.name = name\n",
        "```\n",
        "\n",
        "What should the blank (________) in the type contract be replaced with?"
      ],
      "metadata": {
        "id": "veO4zjP230qU"
      }
    },
    {
      "cell_type": "code",
      "source": [
        "# Author"
      ],
      "metadata": {
        "id": "ha-mD8D330_c"
      },
      "execution_count": null,
      "outputs": []
    }
  ]
}