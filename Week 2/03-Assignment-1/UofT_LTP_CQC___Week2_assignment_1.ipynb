{
  "nbformat": 4,
  "nbformat_minor": 0,
  "metadata": {
    "colab": {
      "provenance": [],
      "toc_visible": true
    },
    "kernelspec": {
      "name": "python3",
      "display_name": "Python 3"
    },
    "language_info": {
      "name": "python"
    }
  },
  "cells": [
    {
      "cell_type": "markdown",
      "source": [
        "# **University of Toronto**\n",
        "### Learn to Program: Crafting Quality Code"
      ],
      "metadata": {
        "id": "lCqlbQktpk3t"
      }
    },
    {
      "cell_type": "markdown",
      "source": [
        "## Week 2 - Assignment 1"
      ],
      "metadata": {
        "id": "kuI7JYNlkjHj"
      }
    },
    {
      "cell_type": "markdown",
      "source": [
        "`a1.py`"
      ],
      "metadata": {
        "id": "kysGVBlILtKp"
      }
    },
    {
      "cell_type": "code",
      "source": [
        "def num_buses(n):\n",
        "    \"\"\" (int) -> int\n",
        "\n",
        "    Precondition: n >= 0\n",
        "\n",
        "    Return the minimum number of buses required to transport n people.\n",
        "    Each bus can hold 50 people.\n",
        "\n",
        "    >>> num_buses(75)\n",
        "    2\n",
        "    \"\"\"\n",
        "    # Calculate the number of buses required and round up to the nearest integer\n",
        "    return -(-n // 50)\n",
        "\n",
        "def stock_price_summary(price_changes):\n",
        "    \"\"\" (list of number) -> (number, number) tuple\n",
        "\n",
        "    price_changes contains a list of stock price changes. Return a 2-item\n",
        "    tuple where the first item is the sum of the gains in price_changes and\n",
        "    the second is the sum of the losses in price_changes.\n",
        "\n",
        "    >>> stock_price_summary([0.01, 0.03, -0.02, -0.14, 0, 0, 0.10, -0.01])\n",
        "    (0.14, -0.17)\n",
        "    \"\"\"\n",
        "    gains = sum(price for price in price_changes if price > 0)\n",
        "    losses = sum(price for price in price_changes if price < 0)\n",
        "    return (gains, losses)\n",
        "\n",
        "def swap_k(L, k):\n",
        "    \"\"\" (list, int) -> NoneType\n",
        "\n",
        "    Precondition: 0 <= k <= len(L) // 2\n",
        "\n",
        "    Swap the first k items of L with the last k items of L.\n",
        "\n",
        "    >>> nums = [1, 2, 3, 4, 5, 6]\n",
        "    >>> swap_k(nums, 2)\n",
        "    >>> nums\n",
        "    [5, 6, 3, 4, 1, 2]\n",
        "    \"\"\"\n",
        "    L[:k], L[-k:] = L[-k:], L[:k]"
      ],
      "metadata": {
        "id": "QHsnVyYJL2ZB"
      },
      "execution_count": null,
      "outputs": []
    },
    {
      "cell_type": "markdown",
      "source": [
        "`test_num_buses.py`"
      ],
      "metadata": {
        "id": "CdtodymgOU3y"
      }
    },
    {
      "cell_type": "code",
      "source": [
        "import a1\n",
        "import unittest\n",
        "\n",
        "class TestNumBuses(unittest.TestCase):\n",
        "    \"\"\" Test class for function a1.num_buses. \"\"\"\n",
        "\n",
        "    def test_min_buses_exact(self):\n",
        "        \"\"\" Test with an exact multiple of bus capacity. \"\"\"\n",
        "        self.assertEqual(a1.num_buses(100), 2)\n",
        "\n",
        "    def test_min_buses_uneven(self):\n",
        "        \"\"\" Test with a number that requires extra bus capacity. \"\"\"\n",
        "        self.assertEqual(a1.num_buses(103), 3)\n",
        "\n",
        "    def test_min_buses_zero(self):\n",
        "        \"\"\" Test with zero people. \"\"\"\n",
        "        self.assertEqual(a1.num_buses(0), 0)\n",
        "\n",
        "if __name__ == '__main__':\n",
        "    unittest.main(exit=False)"
      ],
      "metadata": {
        "id": "yUMAx5imOUMR"
      },
      "execution_count": null,
      "outputs": []
    },
    {
      "cell_type": "markdown",
      "source": [
        "`test_stock_price_summary.py`"
      ],
      "metadata": {
        "id": "FxrvmvcpOa1C"
      }
    },
    {
      "cell_type": "code",
      "source": [
        "import a1\n",
        "import unittest\n",
        "\n",
        "class TestStockPriceSummary(unittest.TestCase):\n",
        "    \"\"\" Test class for function a1.stock_price_summary. \"\"\"\n",
        "\n",
        "    def test_price_changes_empty(self):\n",
        "        \"\"\" Test with an empty list of price changes. \"\"\"\n",
        "        self.assertEqual(a1.stock_price_summary([]), (0, 0))\n",
        "\n",
        "    def test_price_changes_mixed(self):\n",
        "        \"\"\" Test with mixed positive and negative price changes. \"\"\"\n",
        "        self.assertEqual(a1.stock_price_summary([0.01, 0.03, -0.02, -0.14, 0, 0, 0.10, -0.01]), (0.14, -0.17))\n",
        "\n",
        "    def test_price_changes_all_gains(self):\n",
        "        \"\"\" Test with all positive price changes. \"\"\"\n",
        "        self.assertEqual(a1.stock_price_summary([0.02, 0.05, 0.1]), (0.17, 0))\n",
        "\n",
        "if __name__ == '__main__':\n",
        "    unittest.main(exit=False)"
      ],
      "metadata": {
        "id": "XVu9EFgQOdPm"
      },
      "execution_count": null,
      "outputs": []
    },
    {
      "cell_type": "markdown",
      "source": [
        "`test_swap_k.py`"
      ],
      "metadata": {
        "id": "PrE1lN_HOgvi"
      }
    },
    {
      "cell_type": "code",
      "source": [
        "import a1\n",
        "import unittest\n",
        "\n",
        "class TestSwapK(unittest.TestCase):\n",
        "    \"\"\" Test class for function a1.swap_k. \"\"\"\n",
        "\n",
        "    def test_swap_k_even_length(self):\n",
        "        \"\"\" Test with an even-length list. \"\"\"\n",
        "        nums = [1, 2, 3, 4, 5, 6]\n",
        "        a1.swap_k(nums, 2)\n",
        "        self.assertEqual(nums, [5, 6, 3, 4, 1, 2])\n",
        "\n",
        "    def test_swap_k_odd_length(self):\n",
        "        \"\"\" Test with an odd-length list. \"\"\"\n",
        "        nums = [1, 2, 3, 4, 5]\n",
        "        a1.swap_k(nums, 2)\n",
        "        self.assertEqual(nums, [4, 5, 3, 1, 2])\n",
        "\n",
        "    def test_swap_k_full_swap(self):\n",
        "        \"\"\" Test with a full swap of the list. \"\"\"\n",
        "        nums = [1, 2, 3, 4, 5, 6]\n",
        "        a1.swap_k(nums, 3)\n",
        "        self.assertEqual(nums, [4, 5, 6, 1, 2, 3])\n",
        "\n",
        "if __name__ == '__main__':\n",
        "    unittest.main(exit=False)"
      ],
      "metadata": {
        "id": "uaA9Zu9lOiFi"
      },
      "execution_count": null,
      "outputs": []
    }
  ]
}