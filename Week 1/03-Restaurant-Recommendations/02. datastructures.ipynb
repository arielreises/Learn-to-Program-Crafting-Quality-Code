{
  "nbformat": 4,
  "nbformat_minor": 0,
  "metadata": {
    "colab": {
      "provenance": []
    },
    "kernelspec": {
      "name": "python3",
      "display_name": "Python 3"
    },
    "language_info": {
      "name": "python"
    }
  },
  "cells": [
    {
      "cell_type": "markdown",
      "source": [
        "# **Restaurant Recommendations: Representing the Data**\n",
        "\n",
        "The first step to solving the restaurant recommendations problem is choosing data structures to store the information on restaurant prices, ratings, and cuisines."
      ],
      "metadata": {
        "id": "4BvJOB3Y4UtF"
      }
    },
    {
      "cell_type": "markdown",
      "source": [
        "## **Examining the Data File**\n",
        "\n",
        "Here is the restaurant data from a sample file:\n",
        "\n",
        "```\n",
        "Georgie Porgie\n",
        "87%\n",
        "$$$\n",
        "Canadian, Pub Food\n",
        "\n",
        "Queen St. Cafe\n",
        "82%\n",
        "$\n",
        "Malaysian, Thai\n",
        "\n",
        "Dumplings R Us\n",
        "71%\n",
        "$\n",
        "Chinese\n",
        "\n",
        "Mexican Grill\n",
        "85%\n",
        "$$\n",
        "Mexican\n",
        "\n",
        "Deep Fried Everything\n",
        "52%\n",
        "$\n",
        "Pub Food\n",
        "```"
      ],
      "metadata": {
        "id": "0ssokfz14Xjq"
      }
    },
    {
      "cell_type": "markdown",
      "source": [
        "## **Examining the Data**\n",
        "\n",
        "We'll organize the data by grouping it according to tasks that we would like to perform."
      ],
      "metadata": {
        "id": "QthhRNcc4hFq"
      }
    },
    {
      "cell_type": "markdown",
      "source": [
        "### **Rating Information**\n",
        "\n",
        "For each restaurant, we want to be able to look up the rating, so we'll keep track of that information:\n",
        "\n",
        "```\n",
        "Georgie Porgie: 87\n",
        "Queen St. Cafe: 82\n",
        "Dumplings R Us: 71\n",
        "Mexican Grill: 85\n",
        "Deep Fried Everything: 52\n",
        "\n",
        "```"
      ],
      "metadata": {
        "id": "8_4qM4Gl7cLI"
      }
    },
    {
      "cell_type": "markdown",
      "source": [
        "### **Price Range Information**\n",
        "\n",
        "We'll also want to look up restaurants by price, so we'll make a list of that data:\n",
        "\n",
        "```\n",
        "$: Queen St. Cafe, Dumplings R Us, Deep Fried Everything\n",
        "$$: Mexican Grill\n",
        "$$$: Georgie Porgie\n",
        "$$$$:\n",
        "```\n",
        "\n"
      ],
      "metadata": {
        "id": "tdEz4LUp7mtZ"
      }
    },
    {
      "cell_type": "markdown",
      "source": [
        "### **Cuisine Information**\n",
        "\n",
        "Recommendations are made based on types of cuisine as well, so we need to keep track of that information:\n",
        "\n",
        "```\n",
        "Canadian: Georgie Porgie\n",
        "Pub Food: Georgie Porgie, Deep Fried Everything\n",
        "Malaysian: Queen St. Cafe\n",
        "Thai: Queen St. Cafe\n",
        "Chinese: Dumplings R Us\n",
        "Mexican: Mexican Grill\n",
        "```\n",
        "\n"
      ],
      "metadata": {
        "id": "29akFGjK7u2n"
      }
    },
    {
      "cell_type": "markdown",
      "source": [
        "## **Choose the data structure**\n",
        "\n",
        "What data structures can we use to store this information? We could use strings, lists, tuples or dictionaries. That is a design decision that we need to make."
      ],
      "metadata": {
        "id": "ULgBonNe72Ov"
      }
    },
    {
      "cell_type": "markdown",
      "source": [
        "### **Rating Information**\n",
        "\n",
        "Our \"Rating Information\" looks a lot like a Python dictionary, where each key is a restaurant name and each value is a rating.\n",
        "Let's add some braces and commas to make the structure look more like a Python dictionary. Let's also add quotes around the restaurant names to make them strings. Finally, let's create a variable name name_to_rating that refers to this dictionary:\n",
        "\n",
        "\n",
        "\n",
        "```\n",
        "Georgie Porgie: 87\n",
        "Queen St. Cafe: 82\n",
        "Dumplings R Us: 71\n",
        "Mexican Grill: 85\n",
        "Deep Fried Everything: 52\n",
        " \t→\n",
        "name_to_rating = {'Georgie Porgie': 87,\n",
        "'Queen St. Cafe': 82,\n",
        "'Dumplings R Us': 71,\n",
        "'Mexican Grill': 85,\n",
        "'Deep Fried Everything': 52}\n",
        "```\n",
        "Now, to find ratings, we can use the restaurant's name.\n",
        "\n",
        "\n",
        "```\n",
        ">>>name_to_rating['Queen St. Cafe']\n",
        "82\n",
        "```\n",
        "\n",
        "This dictionary type can be written as: dict of `{str: int}`\n",
        "\n",
        "\n"
      ],
      "metadata": {
        "id": "qs2jZInp76sf"
      }
    },
    {
      "cell_type": "markdown",
      "source": [
        "### **Pricing Information**\n",
        "\n",
        "Pricing information also looks a lot like a Python dictionary. We would like to be able to look up a price and get all the restaurants in the price range.\n",
        "\n",
        "The keys (price ranges) look like strings, and the values (restaurant names) look like strings too; however, there can be zero, one or more than one restaurant associated with each price range. Therefore, each value will be a list of str.\n",
        "\n",
        "Again, adding quotes, commas, brackets, braces and a variable name gives us:\n",
        "\n",
        "```\n",
        "$: Queen St. Cafe, Dumplings R Us, Deep Fried Everything\n",
        "$$: Mexican Grill\n",
        "$$$: Georgie Porgie\n",
        "$$$$:\n",
        " \t→\n",
        "price_to_names = {'$': ['Queen St. Cafe', 'Dumplings R Us', 'Deep Fried Everything'],\n",
        "'$$': ['Mexican Grill'],\n",
        "'$$$': ['Georgie Porgie'],\n",
        "'$$$$': []}\n",
        "```\n",
        "We can use this dictionary to find restaurants in a given price range.\n",
        "\n",
        "```\n",
        ">>>price_to_names['$']\n",
        "['Queen St. Cafe', 'Dumplings R Us', 'Deep Fried Everything']\n",
        "```\n",
        "This dictionary type can be written as: dict of `{str: list of str}`\n",
        "\n"
      ],
      "metadata": {
        "id": "BuctOhUR8Q5m"
      }
    },
    {
      "cell_type": "markdown",
      "source": [
        "### **Cuisine Information**\n",
        "\n",
        "A dictionary is also suitable for representing cuisine information.\n",
        "\n",
        "In this case, the type will be dict of `{str: list of str}`. Each key will be a cuisine and each value will be a list of str, since there can be more than one restaurant for each type of cuisine.\n",
        "\n",
        "Once again, adding quotes, commas, brakets, braces and a variable name gives us:\n",
        "\n",
        "```\n",
        "Canadian: Georgie Porgie\n",
        "Pub Food: Georgie Porgie, Deep Fried Everything\n",
        "Malaysian: Queen St. Cafe\n",
        "Thai: Queen St. Cafe\n",
        "Chinese: Dumplings R Us\n",
        "Mexican: Mexican Grill\n",
        " \t→\n",
        "cuisine_to_name = {'Canadian': ['Georgie Porgie'],\n",
        "'Pub Food': ['Georgie Porgie', Deep Fried Everything'],\n",
        "'Malaysian': ['Queen St. Cafe'],\n",
        "'Thai': ['Queen St. Cafe'],\n",
        "'Chinese': ['Dumplings R Us'],\n",
        "'Mexican': ['Mexican Grill']}\n",
        "\n",
        "```\n",
        "We can use this dictionary to find restaurants that serve a particular type of cuisine.\n",
        "\n",
        "```\n",
        ">>>cuisine_to_name['Chinese']\n",
        "['Dumplings R Us']\n",
        "```\n",
        "\n",
        "\n"
      ],
      "metadata": {
        "id": "07aaQe_M8mwW"
      }
    }
  ]
}