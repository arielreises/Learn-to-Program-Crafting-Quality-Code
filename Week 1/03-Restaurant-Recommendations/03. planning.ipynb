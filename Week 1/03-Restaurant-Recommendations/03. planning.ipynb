{
  "nbformat": 4,
  "nbformat_minor": 0,
  "metadata": {
    "colab": {
      "provenance": []
    },
    "kernelspec": {
      "name": "python3",
      "display_name": "Python 3"
    },
    "language_info": {
      "name": "python"
    }
  },
  "cells": [
    {
      "cell_type": "markdown",
      "source": [
        "# **Restaurant Recommendations: Planning the Program**\n",
        "\n",
        "At this point, you should:\n",
        "\n",
        "understand the problem, and\n",
        "be familiar with the data structures we'll use to represent the data from the file.\n",
        "Next, we'll design the functions."
      ],
      "metadata": {
        "id": "4BvJOB3Y4UtF"
      }
    },
    {
      "cell_type": "markdown",
      "source": [
        "## **Quick Review:**\n",
        "\n",
        "We've created 3 dictionaries:\n",
        "\n",
        "1. restaurant to rating `(dict of {str: int})`\n",
        "2. price range to restaurants `(dict of {str: list of str})`\n",
        "3. cuisine type to restaurants `(dict of {str: list of str})`"
      ],
      "metadata": {
        "id": "0ssokfz14Xjq"
      }
    },
    {
      "cell_type": "markdown",
      "source": [
        "### **Planning the Program**\n",
        "\n",
        "1. As with many programs, the first step is reading the file and building the data structures (in this case, building the three dictionaries).\n",
        "2. Now we need to make a design decision: should we look up restaurants by price or by cuisine first? We choose to look up price first. (Choosing to look up restaurants by cuisine first would result in a different solution.) We'll make a list of the restaurants in the desired price range.\n",
        "3. Next, we need to create a list of restaurants in the desired price range list that serve one of the desired cuisines.\n",
        "4. Now that we have a list of restaurants in the desired price range that serve the desired cuisine type, we need to sort the restaurants based on their ratings and return the sorted list."
      ],
      "metadata": {
        "id": "P_AAQcPF9iBm"
      }
    },
    {
      "cell_type": "markdown",
      "source": [
        "#### **Design Tip**\n",
        "\n",
        "* Before programming, plan your program by breaking it down into subproblems. Take notes.\n",
        "* Work through at least one example by hand and decide how to represent the data.\n",
        "* Decompose the problem into subproblems so that you have more places in the program to test for correctness.\n"
      ],
      "metadata": {
        "id": "1rlOJ6Yb9tP1"
      }
    },
    {
      "cell_type": "markdown",
      "source": [
        "## **More Planning and Some Implementation**"
      ],
      "metadata": {
        "id": "JHUZt_wn91NN"
      }
    },
    {
      "cell_type": "markdown",
      "source": [
        "### **Step 1 - Build the Data Structures**"
      ],
      "metadata": {
        "id": "qpU5NtOd96x9"
      }
    },
    {
      "cell_type": "markdown",
      "source": [
        "Start by building the data structures we've discussed:\n",
        "  * a dict of {restaurant name: rating %}\n",
        "  * a dict of {price: list of restaurant names}\n",
        "  * a dict of {cuisine: list of restaurant names}\n",
        "\n",
        "To do all of this in one function would be long, messy and hard to debug.Therefore, we create another function that takes a file and returns the three dictionaries as a tuple:\n",
        "\n",
        "```\n",
        "name_to_rating, price_to_names, cuisine_to_names = read_restaurant(file)\n",
        "```"
      ],
      "metadata": {
        "id": "HIGf6wXW-Jod"
      }
    },
    {
      "cell_type": "markdown",
      "source": [
        "We can now create the header for this new function and create three accumulator variables. The function will accumulate the information from the file in the three dictionaries as it reads the file line-by-line:"
      ],
      "metadata": {
        "id": "k1Qux7-9-ZkF"
      }
    },
    {
      "cell_type": "code",
      "source": [
        "def read_restaurants(file):\n",
        "    \"\"\" (file) -> (dict of {str: int}, dict of {str: list of str}, dict of {str: list of str})\n",
        "\n",
        "    Return a tuple of three dictionaries based on the information in file:\n",
        "\n",
        "    - a dict of {restaurant name: rating%}\n",
        "    - a dict of {price range: list of restaurant names}\n",
        "    - a dict of {cuisine: list of restaurant names}\n",
        "    \"\"\"\n",
        "\n",
        "  name_to_rating = {}\n",
        "  price_to_name = {'$':[], '$$':[], '$$$':[], '$$$$':[]}\n",
        "  cuisine_to_name = {}"
      ],
      "metadata": {
        "id": "j0hatBpI-aNk"
      },
      "execution_count": null,
      "outputs": []
    },
    {
      "cell_type": "markdown",
      "source": [
        "Finishing this function is left as an exercise for you. We recommend you approach it as follows:\n",
        "\n",
        "* Read the file line by line, and build up the `name_to_rating` dictionary.\n",
        "* Only once that's working, go back and edit the function to build up the `price_to_name` dictionary as well.\n",
        "* Next, add the code to build the `cuisine_to_name` dictionary.\n",
        "* You should only read through the file once, so you'll need to add more statements in your for loop to build the 2nd and 3rd dictionaries.\n",
        "* One thing that you may find a bit challenging is pulling apart the comma separated list of cuisines for the `cuisine_to_name` dictionary. You may want to create a helper function to aid with this task."
      ],
      "metadata": {
        "id": "dTNQ8gAk-jlU"
      }
    },
    {
      "cell_type": "markdown",
      "source": [
        "### **Step 2 - Filter by Price Range**"
      ],
      "metadata": {
        "id": "YT7yyK8N98Hm"
      }
    },
    {
      "cell_type": "markdown",
      "source": [
        "We now have:\n",
        "\n",
        "* the `price_to_name` dictionary, and\n",
        "* the price range the user desires.\n",
        "\n",
        "We can find the names of restaurants in that price range as follows:\n",
        "\n",
        "```\n",
        "names_matching_price = price_to_names[price]\n",
        "```\n",
        "\n"
      ],
      "metadata": {
        "id": "QvYI4b1q-0A6"
      }
    },
    {
      "cell_type": "markdown",
      "source": [
        "### **Step 3 - Filter by Cuisine**"
      ],
      "metadata": {
        "id": "S66VnP1Q9_a9"
      }
    },
    {
      "cell_type": "markdown",
      "source": [
        "We now need a new list of restaurants from the `names_matching_price` list that we just created that also serve the desired type of cuisine. We'll add a helper function `filter_by_cuisine` to return a list of all of the restaurants that are in the price range that serves one of the cuisines in the `cuisines_list`.\n",
        "\n",
        "```\n",
        "names_final = filter_by_cuisine(names_matching_price, cuisine_to_names, and cuisines_list)\n",
        "```\n",
        "\n",
        "Start by writing following the Function Design Recipe to write the function header:"
      ],
      "metadata": {
        "id": "rrpLxP6i-_jM"
      }
    },
    {
      "cell_type": "code",
      "source": [
        "def filter_by_cuisine(names_matching_price, cuisine_to_names, cuisines_list):\n",
        "    \"\"\" (list of str, dict of {str: list of str}, list of str) -> list of str\n",
        "\n",
        "    Return a list of the restaurants in names_matching_price that serve at\n",
        "    least one of the cuisines in cuisines_list according to cuisine_to_names.\n",
        "\n",
        "    >>> names = ['Queen St. Cafe', 'Dumplings R Us', 'Deep Fried Everything']\n",
        "    >>> cuis = {'Canadian': ['Georgie Porgie'],\n",
        "                'Pub Food': ['Georgie Porgie', 'Deep Fried Everything'],\n",
        "                'Malaysian': ['Queen St. Cafe'],\n",
        "                'Thai': ['Queen St. Cafe'],\n",
        "                'Chinese: ['Dumplings R Us'],\n",
        "                'Mexican': ['Mexican Grill']}\n",
        "    >>> cuisines = ['Chinese', 'Thai']\n",
        "    >>> filter_by_cuisine(names, cuis, cuisines)\n",
        "    ['Queen St. Cafe', 'Dumplings R Us']\n",
        "    \"\"\""
      ],
      "metadata": {
        "id": "GfVUhHqh_L5c"
      },
      "execution_count": null,
      "outputs": []
    },
    {
      "cell_type": "markdown",
      "source": [
        "In the example in the docstring, we filtered the `names_matching_price` list, looking for Thai `('Queen St. Cafe')` and Chinese `('Dumplings R Us')`. We expect those two restaurants to be returned: `['Queen St. Cafe', 'Dumplings R Us']`.\n",
        "\n",
        "For this example, we would start by looking for `'Queen St. Cafe'` in the `'Chinese'` food list. It's not there, so we now check the `'Thai'` food list. It is there, so we add `'Queen St. Cafe'` to our accumulator. We then move onto `'Dumplings R Us'` and then `'Deep Fried Everything'` repeating the same process.\n",
        "Since `'Deep Fried Everything'` doesn't appear in either the Chinese or Thai lists, it is excluded from the results.\n",
        "\n",
        "This function is left as an exercise for you to implement."
      ],
      "metadata": {
        "id": "H6sKlTb4_Pfs"
      }
    },
    {
      "cell_type": "markdown",
      "source": [
        "### **Step 4 - Sort and Return**"
      ],
      "metadata": {
        "id": "zcPP6lRL-Be2"
      }
    },
    {
      "cell_type": "markdown",
      "source": [
        "We need to build a list of list in the right format, and sort by rating percentage. Again, we'll use a helper function:\n",
        "\n",
        "```\n",
        "result = build_rating_list(name_to_rating, names_final)\n",
        "```\n",
        "Again, start with the function header:"
      ],
      "metadata": {
        "id": "xVRX2bNZ_iSb"
      }
    },
    {
      "cell_type": "code",
      "source": [
        "def build_rating_list(names_matching, name_to_rating):\n",
        "    \"\"\" (list of str, dict of {str: int}) -> list of [int, str] list\n",
        "\n",
        "    Return a list of [rating%, restaurant name], sorted by rating%.\n",
        "    >>> name_to_rating = {'Georgie Porgie': 87,\n",
        "                          'Queen St. Cafe': 82,\n",
        "                          'Dumplings R Us': 71,\n",
        "                          'Mexican Grill': 85,\n",
        "                          'Deep Fried Everything': 52}\n",
        "    >>> names = ['Queen St. Cafe', 'Dumplings R Us']\n",
        "    >>> build_rating_list(name_to_rating, names)\n",
        "    [[82, 'Queen St. Cafe'], [71, 'Dumplings R Us']]\n",
        "    \"\"\""
      ],
      "metadata": {
        "id": "0S0MsBW1_nYL"
      },
      "execution_count": null,
      "outputs": []
    },
    {
      "cell_type": "markdown",
      "source": [
        "### **Final steps**"
      ],
      "metadata": {
        "id": "jayGShrJ-D7n"
      }
    },
    {
      "cell_type": "markdown",
      "source": [
        "Now, all that's left is to sort and return the list of recommended restaurants. The reason we put the rating first, followed by the string, is that when calling `sort()` on a list of list, it will use the first value of the inner list to determine the sort order of the items.\n",
        "The rest of this function is being left for you to complete."
      ],
      "metadata": {
        "id": "Wfw_eha7_qj9"
      }
    }
  ]
}