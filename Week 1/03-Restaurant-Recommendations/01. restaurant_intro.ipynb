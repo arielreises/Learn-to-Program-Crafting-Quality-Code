{
  "nbformat": 4,
  "nbformat_minor": 0,
  "metadata": {
    "colab": {
      "provenance": []
    },
    "kernelspec": {
      "name": "python3",
      "display_name": "Python 3"
    },
    "language_info": {
      "name": "python"
    }
  },
  "cells": [
    {
      "cell_type": "markdown",
      "source": [
        "# **The Restaurant Recommendation Problem**\n",
        "\n",
        "While learning, students are often told which functions to write, including the function names, parameters and return types.\n",
        "\n",
        "The next set of videos focus on an exercise where you get to decide yourself which functions to write. The example also gives you more practice with dictionaries, lists, and files."
      ],
      "metadata": {
        "id": "4BvJOB3Y4UtF"
      }
    },
    {
      "cell_type": "markdown",
      "source": [
        "## **Task**\n",
        "\n",
        "The problem we'll be tackling is a restaurant recommendation system.\n",
        "\n",
        "We are given a list of restaurants that contains:\n",
        "\n",
        "1. The name of the restaurant.\n",
        "2. The percentage of people who recommended the restaurant.\n",
        "3. The price range of the restaurant.\n",
        "4. The type of food served by the restaurant.\n",
        "\n",
        "\n",
        "The program will make a recommendation to the user based on this data.\n",
        "\n",
        "We'll tell you a bit about the main function, but this task is complex and helper functions will make writing the main function much easier."
      ],
      "metadata": {
        "id": "0ssokfz14Xjq"
      }
    },
    {
      "cell_type": "markdown",
      "source": [
        "## **The Problem:**\n",
        "\n",
        "Write a function that has three parameters:\n",
        "\n",
        "* a restaurant file that is open for reading,\n",
        "* the price range `(one of $, $$, $$$ and $$$$)`, and a list of cuisines.\n",
        "* The function returns a list of restaurants (in that price range, serving at least one of those cuisines), and their ratings sorted from highest to lowest."
      ],
      "metadata": {
        "id": "QthhRNcc4hFq"
      }
    }
  ]
}