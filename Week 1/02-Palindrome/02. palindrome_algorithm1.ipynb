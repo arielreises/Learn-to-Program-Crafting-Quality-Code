{
  "nbformat": 4,
  "nbformat_minor": 0,
  "metadata": {
    "colab": {
      "provenance": []
    },
    "kernelspec": {
      "name": "python3",
      "display_name": "Python 3"
    },
    "language_info": {
      "name": "python"
    }
  },
  "cells": [
    {
      "cell_type": "markdown",
      "source": [
        "# **Palindrome: Algorithm 1**"
      ],
      "metadata": {
        "id": "gzbDD2E-3eP8"
      }
    },
    {
      "cell_type": "markdown",
      "source": [
        "## **Overview**\n",
        "\n",
        "To determine whether a string is a palindrome, the first algorithm we explored was:\n",
        "\n",
        "* Reverse the string.\n",
        "* Compare the reversed string to the original string.\n",
        "\n",
        "For example, the reverse of the string \"noon\" is \"noon\". Since the reversed string is the same as the original string, \"noon\" is a palindrome.\n",
        "\n",
        "For the string \"dented\", the reverse of the string \"dented\" is \"detned\". Since the reversed string is not the same as the original string, \"dented\" is not a palindrome."
      ],
      "metadata": {
        "id": "ojoP_kGx3jdL"
      }
    },
    {
      "cell_type": "markdown",
      "source": [
        "## **Code**"
      ],
      "metadata": {
        "id": "JJjsgCrR3rMD"
      }
    },
    {
      "cell_type": "code",
      "source": [
        "def reverse(s):\n",
        "    \"\"\" (str) -> str\n",
        "\n",
        "    Return s reversed.\n",
        "\n",
        "    >>> reverse('hello')\n",
        "    'olleh'\n",
        "    \"\"\"\n",
        "\n",
        "    s_reversed = ''\n",
        "    for ch in s:\n",
        "        s_reversed = ch + s_reversed\n",
        "    return s_reversed\n",
        "\n",
        "\n",
        "def is_palindrome_v1(s):\n",
        "    \"\"\" (str) -> bool\n",
        "\n",
        "    Return True if and only if s is a palindrome.\n",
        "\n",
        "    >>> is_palindrome_v1('noon')\n",
        "    True\n",
        "    >>> is_palindrome_v1('radar')\n",
        "    True\n",
        "    >>> is_palindrome_v1('kayaks')\n",
        "    False\n",
        "    \"\"\"\n",
        "\n",
        "    s_reversed = reverse(s)\n",
        "    return s == s_reversed"
      ],
      "metadata": {
        "id": "Pz1qMdDe3wLr"
      },
      "execution_count": null,
      "outputs": []
    }
  ]
}