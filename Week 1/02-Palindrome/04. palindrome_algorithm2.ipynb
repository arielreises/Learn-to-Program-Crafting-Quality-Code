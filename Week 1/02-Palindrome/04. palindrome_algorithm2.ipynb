{
  "nbformat": 4,
  "nbformat_minor": 0,
  "metadata": {
    "colab": {
      "provenance": []
    },
    "kernelspec": {
      "name": "python3",
      "display_name": "Python 3"
    },
    "language_info": {
      "name": "python"
    }
  },
  "cells": [
    {
      "cell_type": "markdown",
      "source": [
        "# **Palindrome: Algorithm 2**"
      ],
      "metadata": {
        "id": "4BvJOB3Y4UtF"
      }
    },
    {
      "cell_type": "markdown",
      "source": [
        "## **Overview**\n",
        "\n",
        "To determine whether a string is a palindrome, the second algorithm we explored was:\n",
        "\n",
        "1. Split the string into two halves.\n",
        "2. Reverse the second half.\n",
        "3. Compare the first half to the reversed second half.\n",
        "\n",
        "For example, the first half of the string \"noon\" is \"no\" and the second half is \"on\". The reverse of the second half is \"no\". Since the first half is equal to the reverse of the second half, \"noon\" is a palindrome.\n",
        "\n",
        "For a string with an odd length, let's consider \"racecar\". When splitting the string into two halves, we omit the middle character, \"e\". The first half of the string is \"rac\" and the second half of the string is \"car\". The reverse of the second half is \"rac\". Since the first half is equal to the reverse of the second half, \"racecar\" is a palindrome.\n",
        "\n",
        "Finally, for a string that is not a palindrome, let's consider \"dented\". The first half of the string is \"den\" and the second half of the string is \"ted\". The reverse of the second half is \"det\". Since the first half is not equal to the reverse of the second half, \"dented\" is not a palindrome."
      ],
      "metadata": {
        "id": "0ssokfz14Xjq"
      }
    },
    {
      "cell_type": "markdown",
      "source": [
        "## **Code**"
      ],
      "metadata": {
        "id": "QthhRNcc4hFq"
      }
    },
    {
      "cell_type": "code",
      "source": [
        "def is_palindrome_v2(s):\n",
        "    \"\"\" (str) -> bool\n",
        "\n",
        "    Return True if and only if s is a palindrome.\n",
        "\n",
        "    >>> is_palindrome_v2('noon')\n",
        "    True\n",
        "    >>> is_palindrome_v2('racecar')\n",
        "    True\n",
        "    >>> is_palindrome_v2('dented')\n",
        "    False\n",
        "    \"\"\"\n",
        "\n",
        "    # The number of chars in s.\n",
        "    n = len(s)\n",
        "\n",
        "    # Compare the first half of s to the reverse of the second half.\n",
        "    # Omit the middle character of an odd-length string.\n",
        "    return s[:n // 2] == reverse(s[n - n // 2:])\n",
        "\n",
        "def reverse(s):\n",
        "    \"\"\" (str) -> str\n",
        "\n",
        "    Return a reversed version of s.\n",
        "\n",
        "    >>> reverse('hello')\n",
        "    'olleh'\n",
        "    >>> reverse('a')\n",
        "    'a'\n",
        "    \"\"\"\n",
        "\n",
        "    rev = ''\n",
        "\n",
        "    # For each character in s, add that char to the beginning of rev.\n",
        "    for ch in s:\n",
        "        rev = ch + rev\n",
        "\n",
        "    return rev"
      ],
      "metadata": {
        "id": "ZEfVY_fS4iyC"
      },
      "execution_count": null,
      "outputs": []
    }
  ]
}