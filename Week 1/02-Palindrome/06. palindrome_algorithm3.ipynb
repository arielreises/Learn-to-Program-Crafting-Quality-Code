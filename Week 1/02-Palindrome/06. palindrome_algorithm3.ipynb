{
  "nbformat": 4,
  "nbformat_minor": 0,
  "metadata": {
    "colab": {
      "provenance": []
    },
    "kernelspec": {
      "name": "python3",
      "display_name": "Python 3"
    },
    "language_info": {
      "name": "python"
    }
  },
  "cells": [
    {
      "cell_type": "markdown",
      "source": [
        "# **Palindrome: Algorithm 3**"
      ],
      "metadata": {
        "id": "4BvJOB3Y4UtF"
      }
    },
    {
      "cell_type": "markdown",
      "source": [
        "## **Overview**\n",
        "\n",
        "To determine whether a string is a palindrome, the third algorithm we explored was:\n",
        "\n",
        "1. Compare the first character to the last, the second to the second last, and so on.\n",
        "2. Stop when the middle of the string is reached.\n",
        "\n",
        "For example, for string \"noon\", we compare the first character (\"n\") to the last character (\"n\"), and the second character (\"o\") to the second last (\"o\"). Since both pairs of characters that were compared are equal, \"noon\" is a palindrome.\n",
        "\n",
        "For a string with an odd length, let's consider \"racecar\". We compare the first character (\"r\") to the last character (\"r\"), the second character (\"a\") to the second last (\"a\"), and the third character (\"c\") to the third last character (\"c\"). The middle character, \"e\" does not need to be compared with anything. Since all pairs of characters that were compared are equal, \"racecar\" is a palindrome.\n",
        "\n",
        "Finally, for a string that is not a palindrome, let's consider \"dented\". We compare the first character (\"d\") to the last character (\"d\"), the second character (\"e\") to the second last (\"e\"), and the third character (\"n\") to the third last character (\"t\"). Since not all pairs of characters that were compared are equal, \"dented\" is a not palindrome."
      ],
      "metadata": {
        "id": "0ssokfz14Xjq"
      }
    },
    {
      "cell_type": "markdown",
      "source": [
        "## **Code**"
      ],
      "metadata": {
        "id": "QthhRNcc4hFq"
      }
    },
    {
      "cell_type": "code",
      "source": [
        "def is_palindrome_v3(s):     \"\"\" (str) -> bool\n",
        "\n",
        "    Return True if and only if s is a palindrome.\n",
        "\n",
        "    >>> is_palindrome_v3('noon')\n",
        "    True\n",
        "    >>> is_palindrome_v3('racecar')\n",
        "    True\n",
        "    >>> is_palindrome_v3('dented')\n",
        "    False\n",
        "    \"\"\"\n",
        "\n",
        "    # s[i] and s[j] are the next pair of characters to compare.\n",
        "    i = 0\n",
        "    j = len(s) - 1\n",
        "\n",
        "    # The characters in s[:i] have been successfully compared to those in s[j:].\n",
        "    while i < j and s[i] == s[j]:\n",
        "        i = i + 1\n",
        "        j = j - 1\n",
        "\n",
        "    # If we exited because we successfully compared all pairs of characters,\n",
        "    # then j <= i.\n",
        "    return j <= i"
      ],
      "metadata": {
        "id": "ZEfVY_fS4iyC"
      },
      "execution_count": null,
      "outputs": []
    }
  ]
}