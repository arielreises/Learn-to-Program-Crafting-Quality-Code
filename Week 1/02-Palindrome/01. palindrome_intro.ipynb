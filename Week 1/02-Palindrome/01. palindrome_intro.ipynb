{
  "nbformat": 4,
  "nbformat_minor": 0,
  "metadata": {
    "colab": {
      "provenance": []
    },
    "kernelspec": {
      "name": "python3",
      "display_name": "Python 3"
    },
    "language_info": {
      "name": "python"
    }
  },
  "cells": [
    {
      "cell_type": "markdown",
      "source": [
        "# **Palindrome: Approaching the Problem**"
      ],
      "metadata": {
        "id": "kVuI7aNW17hx"
      }
    },
    {
      "cell_type": "markdown",
      "source": [
        "## Introduction\n",
        "\n",
        "A palindrome is a word that is read the same front-to-back or back-to-front. For instance, `R A C E C A R` reversed is also `R A C E C A R`.\n",
        "\n",
        "However, `BLUE` reversed is `EULB`, and thus **not a palindrome**."
      ],
      "metadata": {
        "id": "hcvuBgeF1_1_"
      }
    },
    {
      "cell_type": "markdown",
      "source": [
        "## Algorithms\n",
        "\n",
        "An algorithm is a sequence of steps that accomplish a task. We present three algorithms for detecting palindromes:"
      ],
      "metadata": {
        "id": "C3fZWUPP2d0M"
      }
    },
    {
      "cell_type": "markdown",
      "source": [
        "### **Algorithm 1: Reverse the string. Compare the reversed string to the original string.**\n",
        "\n",
        "* For example, the reverse of the string \"noon\" is \"noon\". Since the reversed string is the same as the original string, \"noon\" is a palindrome."
      ],
      "metadata": {
        "id": "Jit-V_JJ2he0"
      }
    },
    {
      "cell_type": "markdown",
      "source": [
        "### **Algorithm 2: Split the string into two halves. Reverse the second half. Compare the first half to the reversed second half.**\n",
        "\n",
        "* For example, the first half of the string \"noon\" is \"no\" and the second half is \"on\". The reverse of the second half is \"no\". Since the first half is equal to the reverse of the second half, \"noon\" is a palindrome.\n",
        "* For a string with an odd length, let's consider \"racecar\". When splitting the string into two halves, we omit the middle character, \"e\". The first half of the string is \"rac\" and the second half of the string is \"car\". The reverse of the second half is \"rac\". Since the first half is equal to the reverse of the second half, \"racecar\" is a palindrome."
      ],
      "metadata": {
        "id": "-jCqQ5GL2oF0"
      }
    },
    {
      "cell_type": "markdown",
      "source": [
        "### **Algorithm 3: Compare the first character to the last, the second to the second last, and so on. Stop when the middle of the string is reached.**\n",
        "\n",
        "* For example, for string \"noon\", we compare the first character (\"n\") to the last character (\"n\"), and the second character (\"o\") to the second last (\"o\"). Since both pairs of characters that were compared are equal, \"noon\" is a palindrome.\n",
        "* For a string with an odd length, let's consider \"racecar\". We compare the first character (\"r\") to the last character (\"r\"), the second character (\"a\") to the second last (\"a\"), and the third character (\"c\") to the third last character (\"c\"). The middle character, \"e\" does not need to be compared with anything. Since all pairs of characters that were compared are equal, \"racecar\" is a palindrome."
      ],
      "metadata": {
        "id": "VOWQD0Yo2wvU"
      }
    },
    {
      "cell_type": "markdown",
      "source": [
        "In upcoming lectures, we will implement all three algorithms. Following the Recipe for Designing Functions, we implemented the function header:"
      ],
      "metadata": {
        "id": "LI_uB9sd27nz"
      }
    },
    {
      "cell_type": "markdown",
      "source": [
        "```\n",
        "Examples\n",
        ">>> is_palindrome('noon')\n",
        "True\n",
        ">>> is_palindrome('racecar')\n",
        "True\n",
        ">>> is_palindrome('dented')\n",
        "False\n",
        "Type Contract\n",
        "(str) --> boolean\n",
        "Header\n",
        "def is_palindrome(s):\n",
        "Description\n",
        "Return True if and only if s is a palindrome\n",
        "Body\n",
        "This will be discussed in future lectures.\n",
        "Test\n",
        "This will be discussed in future lectures.\n",
        "\n",
        "```"
      ],
      "metadata": {
        "id": "6tEaQvby28jb"
      }
    }
  ]
}