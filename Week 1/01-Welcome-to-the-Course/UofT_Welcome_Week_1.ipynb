{
  "nbformat": 4,
  "nbformat_minor": 0,
  "metadata": {
    "colab": {
      "provenance": []
    },
    "kernelspec": {
      "name": "python3",
      "display_name": "Python 3"
    },
    "language_info": {
      "name": "python"
    }
  },
  "cells": [
    {
      "cell_type": "markdown",
      "source": [
        "# **Programa de Estudos**"
      ],
      "metadata": {
        "id": "c-x2TRd3cPVn"
      }
    },
    {
      "cell_type": "markdown",
      "source": [
        "Você conhece o básico da programação em Python: tipos de dados elementares (tipos numéricos, strings, listas, dicionários e arquivos), fluxo de controle, funções, objetos, métodos, campos e mutabilidade. **Você precisa ser bom nisso para ter sucesso neste curso.**\n",
        "\n",
        "LTP: Crafting Quality Code cobre as próximas etapas: projetar programas maiores, testar seu código para saber se ele funciona, ler o código para entender o quão eficiente ele é e criar seus próprios tipos.\n",
        "\n",
        "**Tópicos semanais**\n",
        "\n",
        "1. Projetando algoritmos: como você decide o que fazer em um corpo de função? Como você descobre quais funções escrever em primeiro lugar?\n",
        "\n",
        "2. Testes automatizados: doctest e unittest\n",
        "\n",
        "3. Analisando código para velocidade; detalhes de pesquisa e classificação\n",
        "\n",
        "4. Criando novos tipos: classes em Python\n",
        "\n",
        "5. Funções como argumentos, valores de parâmetros padrão, exceções"
      ],
      "metadata": {
        "id": "nIWu0Jb1cWBO"
      }
    },
    {
      "cell_type": "markdown",
      "source": [
        "# **Logística do Curso**"
      ],
      "metadata": {
        "id": "JnX91TRkcgT2"
      }
    },
    {
      "cell_type": "markdown",
      "source": [
        "## **Visão geral do curso**\n",
        "\n",
        "Você conhece o básico da programação em Python: tipos de dados elementares (tipos numéricos, strings, listas, dicionários e arquivos), fluxo de controle, funções, objetos, métodos e mutabilidade. Você precisa ser bom nisso para ter sucesso neste curso.\n",
        "\n",
        "Aqui estão as partes deste curso:\n",
        "\n",
        "* Cinco módulos. As aulas em vídeo levarão cerca de 1 a 2 horas por módulo,\n",
        "incluindo a resposta a perguntas do questionário em vídeo que aparecem conforme você aprende. Os questionários não fazem parte do esquema de pontuação, mas irão ajudá-lo a lembrar o material. Alguns alunos relataram que é útil usar o IDLE (o programa que usamos para escrever programas em Python) enquanto as aulas progridem, digitando o código Python que mostramos.\n",
        "\n",
        "* Quatro exercícios. O objetivo é que você pratique o material apresentado nas palestras e geralmente envolvem algumas questões para reflexão e alguns exercícios básicos de programação.\n",
        "\n",
        "* Duas tarefas de programação. Nestes você escreverá programas maiores do que nos exercícios, e seu conteúdo integrará todo o material visto até agora, com foco no material recente. Espere gastar um pouco mais de tempo nas tarefas do que nos exercícios. Como os programas que você escreverá são bastante grandes, os folhetos são bastante detalhados. Você deve lê-los mais de uma vez para entender completamente o que está sendo solicitado a fazer.\n",
        "\n",
        "Não há exame final."
      ],
      "metadata": {
        "id": "dCCWOKRBckb9"
      }
    },
    {
      "cell_type": "markdown",
      "source": [
        "## **Envio de questionário e tarefa**\n",
        "\n",
        "Todos os exercícios e a segunda tarefa de programação são avaliados quando você os envia. Você pode enviar cada questionário até 3 vezes a cada 8 horas, e usaremos a nota mais alta de todos os seus envios. Você pode enviar cada tarefa quantas vezes quiser até o prazo devido. Novamente, usaremos a nota mais alta de todos os seus envios.\n",
        "\n",
        "A segunda tarefa de programação envolve revisão por pares. Parte da sua nota no curso depende da sua participação nesse processo."
      ],
      "metadata": {
        "id": "FOhFLGdxc75e"
      }
    },
    {
      "cell_type": "markdown",
      "source": [
        "## **Esquema de marcação**\n",
        "\n",
        "**Marcas de exercício**\n",
        "* Cada exercício valerá 15%. Os exercícios são avaliados quando você os envia. Você pode enviar cada exercício várias vezes e usaremos a nota mais alta de todos os seus envios.\n",
        "\n",
        "**Marcas de atribuição**\n",
        "\n",
        "* Cada tarefa vale 20%. As tarefas envolverão a escrita de código.\n",
        "\n",
        "* Você pode enviar cada tarefa várias vezes e, novamente, usaremos a nota mais alta de todos os seus envios."
      ],
      "metadata": {
        "id": "aTJvxhVbdA8N"
      }
    }
  ]
}