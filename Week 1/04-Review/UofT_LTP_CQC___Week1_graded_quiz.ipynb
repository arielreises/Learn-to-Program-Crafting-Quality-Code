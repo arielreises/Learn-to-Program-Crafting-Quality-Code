{
  "cells": [
    {
      "cell_type": "markdown",
      "metadata": {
        "id": "lCqlbQktpk3t"
      },
      "source": [
        "# **University of Toronto**\n",
        "### Learn to Program: Crafting Quality Code"
      ]
    },
    {
      "cell_type": "markdown",
      "metadata": {
        "id": "RuBYXxrCp7VE"
      },
      "source": [
        "## Week 1 - Excercises"
      ]
    },
    {
      "cell_type": "markdown",
      "metadata": {
        "id": "6tSjWW3WrJwb"
      },
      "source": [
        "### Exercise 1 ✅"
      ]
    },
    {
      "cell_type": "markdown",
      "metadata": {
        "id": "G_HKGxeTqF6j"
      },
      "source": [
        "To determine whether a string is a palindrome, the third algorithm we explored was:\n",
        "\n",
        "  1.   Compare the first character to the last character, the second to the second last, and so on.\n",
        "  2.   Stop when the middle of the string is reached. (That means that the middle character is not compared with anything.)\n",
        "\n",
        "We implemented this algorithm using a ```while``` loop, but we could have used a ```for``` loop. The Python code is posted as a Reading, but here is the function header:\n",
        "\n",
        "```\n",
        "def is_palindrome_v3(s):\n",
        "   \"\"\" (str) -> bool\n",
        "   Return True if and only if s is a palindrome.\n",
        "    >>> is_palindrome_v3('noon')\n",
        "   True\n",
        "   >>> is_palindrome_v3('racecar')\n",
        "   True\n",
        "   >>> is_palindrome_v3('dented')\n",
        "   False\n",
        "   \"\"\"\n",
        "```\n",
        "\n",
        "The function bodies below all use ```for``` loops to try to solve the palindrome problem. Select the one(s) that correctly implement the algorithm.\n",
        "\n",
        "Hint: try tracing the code on a string of length 1, and then on a string of length 2.\n"
      ]
    },
    {
      "cell_type": "code",
      "execution_count": null,
      "metadata": {
        "id": "zXC1DfX6qFe7"
      },
      "outputs": [],
      "source": [
        "j = len(s) – 1\n",
        "for i in range(len(s) // 2):\n",
        "    if s[i] != s[j - i]:\n",
        "        return False\n",
        "\n",
        "return True"
      ]
    },
    {
      "cell_type": "code",
      "execution_count": null,
      "metadata": {
        "id": "U2-kBcapCOX7"
      },
      "outputs": [],
      "source": [
        "for i in range(len(s) // 2):\n",
        "  if s[i] != s[len(s) - i - 1]:\n",
        "    return False\n",
        "\n",
        "return True"
      ]
    },
    {
      "cell_type": "markdown",
      "metadata": {
        "id": "b-KkeLZGwCs1"
      },
      "source": [
        "### Exercise 2 ✅"
      ]
    },
    {
      "cell_type": "markdown",
      "metadata": {
        "id": "GFoIBFBfwWfS"
      },
      "source": [
        "A string ```s1``` is an anagram of string ```s2``` if its letters can be rearranged to form ```s2```.\n",
        "\n",
        "For example, ```listen``` is an anagram of ```silent```, and ```admirer``` is an anagram of ```married```.\n",
        "For this question, a word is considered to be an anagram of itself.\n",
        "\n",
        "Consider this code:\n",
        "```\n",
        "def is_anagram(s1, s2):\n",
        "    \"\"\" (str, str) -> bool\n",
        "   \n",
        "    Return True if and only if s1 is an anagram of s2.\n",
        "  \n",
        "    >>> is_anagram(\"silent\", \"listen\")\n",
        "    True\n",
        "    >>> is_anagram(\"bear\", \"breach\")\n",
        "    False\n",
        "    \"\"\"\n",
        "```\n",
        "\n",
        "Select the algorithm(s) that can be used to implement ```is_anagram```."
      ]
    },
    {
      "cell_type": "markdown",
      "metadata": {
        "id": "uwDmz6xsyxdu"
      },
      "source": [
        "1.Create a dictionary ```d1``` in which each key is a letter from ```s1``` and each value is the number of occurrences of that letter in ```s1```.\n",
        "\n",
        "2.Create a dictionary ```d2``` in which each key is a letter from ```s2``` and each value is the number of occurrences of that letter in ```s2```.\n",
        "\n",
        "3.If ```d1 == d2```, then ```s1``` is an anagram of ```s2```.\n"
      ]
    },
    {
      "cell_type": "markdown",
      "metadata": {
        "id": "OJpmg_r4zQls"
      },
      "source": [
        "1.Create a list ```L1``` of the characters in ```s1```.\n",
        "\n",
        "2.Create a list ```L2``` of the characters in ```s2```.\n",
        "\n",
        "3.Sort both lists.\n",
        "\n",
        "4.If ```L1 == L2```, ```s1``` is an anagram of ```s2```."
      ]
    },
    {
      "cell_type": "markdown",
      "metadata": {
        "id": "sDm1DiBhwD4M"
      },
      "source": [
        "### Exercise 3 ✅"
      ]
    },
    {
      "cell_type": "markdown",
      "metadata": {
        "id": "U2jafVR7wXBJ"
      },
      "source": [
        "Consider this code:\n",
        "\n",
        "```\n",
        "def count_startswith(L, ch):\n",
        "    \"\"\" (list of str, str) -> int\n",
        "\n",
        "    Precondition: the length of each item in L is >= 1, and len(ch) == 1\n",
        "\n",
        "    Return the number of strings in L that begin with ch.\n",
        "  \n",
        "    >>> count_startswith(['rumba', 'salsa', 'samba'], 's')\n",
        "    2\n",
        "    \"\"\"\n",
        "\n",
        "    ch_strings = []\n",
        "\n",
        "    for item in L:\n",
        "        if item[0] == ch:\n",
        "            ch_strings.append(item)\n",
        "\n",
        "    return len(ch_strings)\n",
        "```\n",
        "Select the algorithm that best describes the approach taken in the function defined above.\n"
      ]
    },
    {
      "cell_type": "markdown",
      "metadata": {
        "id": "_S23bi7O01C-"
      },
      "source": [
        "1.Use a list accumulator.\n",
        "\n",
        "2.For each item in ```L```, if the item begins with ```ch```, add it to the accumulator.\n",
        "\n",
        "3.Return the length of the accumulator."
      ]
    },
    {
      "cell_type": "markdown",
      "metadata": {
        "id": "6EvbPobAwEis"
      },
      "source": [
        "### Exercise 4 ✅"
      ]
    },
    {
      "cell_type": "markdown",
      "metadata": {
        "id": "XoJJ1pRCU3fN"
      },
      "source": [
        "Consider this function header:\n",
        "```\n",
        "def count_startswith(L, ch):\n",
        "     \"\"\" (list of str, str) -> int\n",
        "\n",
        "     Precondition: the length of each item in L is >= 1, and len(ch) == 1\n",
        "\n",
        "    Return the number of strings in L that begin with ch.\n",
        "\n",
        "    >>> count_startswith(['rumba', 'salsa', 'samba'], 's')\n",
        "    2\n",
        "    \"\"\"\n",
        "```\n",
        "\n"
      ]
    },
    {
      "cell_type": "markdown",
      "metadata": {
        "id": "T_JYCPYzVAtl"
      },
      "source": [
        "Select the code fragment(s) that correctly implement the function according to the header above."
      ]
    },
    {
      "cell_type": "code",
      "execution_count": null,
      "metadata": {
        "id": "5JMKZjaLVHBe"
      },
      "outputs": [],
      "source": [
        "startswith = L[:]\n",
        "\n",
        "    for item in L:\n",
        "        if not item.startswith(ch):\n",
        "            startswith.remove(item)\n",
        "    return len(startswith)"
      ]
    },
    {
      "cell_type": "code",
      "execution_count": null,
      "metadata": {
        "id": "5-ZcS2m6VLz-"
      },
      "outputs": [],
      "source": [
        "startswith = L[:]\n",
        "\n",
        "    for item in L:\n",
        "        if item.startswith(ch):\n",
        "            startswith.remove(item)\n",
        "\n",
        "    return len(L) - len(startswith)"
      ]
    },
    {
      "cell_type": "markdown",
      "metadata": {
        "id": "w_W77fUDwFLs"
      },
      "source": [
        "### Exercise 5 ✅"
      ]
    },
    {
      "cell_type": "markdown",
      "metadata": {
        "id": "8KKO5WVPwYPa"
      },
      "source": [
        "Consider this code, in which s refers to a string:\n",
        "\n",
        "```\n",
        "digits = \"\"\n",
        "\n",
        "for ch in s:\n",
        "    if ch.isdigit():\n",
        "        digits = digits + ch\n",
        "```\n",
        "\n",
        "Select the code fragment(s) that will produce the same value for digits."
      ]
    },
    {
      "cell_type": "code",
      "execution_count": null,
      "metadata": {
        "id": "SlzelUBAWsdb"
      },
      "outputs": [],
      "source": [
        "digits = ''\n",
        "\n",
        "for ch in s:\n",
        "    if ch in '0123456789':\n",
        "        digits = digits + ch"
      ]
    },
    {
      "cell_type": "code",
      "execution_count": null,
      "metadata": {
        "id": "ND4J-ibwWxr7"
      },
      "outputs": [],
      "source": [
        "digits = ''\n",
        "\n",
        "    for i in range(len(s)):\n",
        "        if s[i].isdigit():\n",
        "            digits = digits + s[i]\n",
        "    return digits"
      ]
    },
    {
      "cell_type": "markdown",
      "metadata": {
        "id": "jRPg8VsvwFtk"
      },
      "source": [
        "### Exercise 6 ✅\n"
      ]
    },
    {
      "cell_type": "markdown",
      "metadata": {
        "id": "aTcxsRqMXBZb"
      },
      "source": [
        "Consider this function header and docstring:\n",
        "\n",
        "```\n",
        "def is_one_to_one(d):\n",
        "     \"\"\" (dict) -> bool\n",
        "\n",
        "     Return True if and only if no two of d's keys map to the same value.\n",
        "     \n",
        "     >>> is_one_to_one({'a': 1, 'b': 2, 'c': 3})\n",
        "     True\n",
        "     >>> is_one_to_one({'a': 1, 'b': 2, 'c': 1})\n",
        "     False\n",
        "     >>> is_one_to_one({})\n",
        "     True\n",
        "     \"\"\"\n",
        "```\n",
        "Select the algorithm(s) that can be used to implement ``` is_one_to_one```.\n"
      ]
    },
    {
      "cell_type": "code",
      "execution_count": null,
      "metadata": {
        "id": "ybc0z9b5XbaF"
      },
      "outputs": [],
      "source": [
        "# 1.Put all the values from d into a list.\n",
        "# 2.For each value in the list, count how many times it appears in the list. If a value appears more than once in the list, return False.\n",
        "# 3.Once all the values in the list have been processed, return True because we didn't see a duplicate value."
      ]
    },
    {
      "cell_type": "code",
      "execution_count": null,
      "metadata": {
        "id": "W9J72v5dXbMb"
      },
      "outputs": [],
      "source": [
        "# 1.Use a list accumulator to keep track of the values we've seen so far.\n",
        "# 2.For each key in d, if the value associated with that key has already been seen, return False; otherwise, append it to the list of values that we've seen so far.\n",
        "# 3.Once all the keys have been processed, return True because we didn't see a duplicate value"
      ]
    },
    {
      "cell_type": "code",
      "execution_count": null,
      "metadata": {
        "id": "3Xf42c7aXa-j"
      },
      "outputs": [],
      "source": [
        "# 1.Put all the values from d into a list.\n",
        "# 2.Make a copy of that list.\n",
        "# 3.Remove all the duplicate items from the second list.\n",
        "# 4.Compare the lengths of the two lists. If they are equal, return True because that means that there were no duplicate items; otherwise, return False."
      ]
    },
    {
      "cell_type": "markdown",
      "metadata": {
        "id": "BrCS9Y6SwGpk"
      },
      "source": [
        "### Exercise 7 ✅"
      ]
    },
    {
      "cell_type": "markdown",
      "metadata": {
        "id": "mg8WCHOeWdCn"
      },
      "source": [
        "Consider this code:\n",
        "```\n",
        "def is_one_to_one(d):\n",
        "    \"\"\" (dict) -> bool\n",
        "\n",
        "    Return True if and only if no two of d's keys map to the same value.\n",
        "\n",
        "    >>> is_one_to_one({'a': 1, 'b': 2, 'c': 3})\n",
        "    True\n",
        "    >>> is_one_to_one({'a': 1, 'b': 2, 'c': 1})\n",
        "    False\n",
        "    >>> is_one_to_one({})\n",
        "    True\n",
        "    \"\"\"\n",
        "\n",
        "    seen = []  # The values that have been seen so far.\n",
        "    for k in d:\n",
        "        if d[k] in seen:\n",
        "             return False\n",
        "        else:\n",
        "            seen.append(d[k])\n",
        "    return True\n",
        "```\n",
        "Select the algorithm that best describes the approach taken in the function defined above."
      ]
    },
    {
      "cell_type": "code",
      "execution_count": null,
      "metadata": {
        "id": "luLL3RCxXjGS"
      },
      "outputs": [],
      "source": [
        "# 1.Use a list accumulator to keep track of the values we've seen so far.\n",
        "# 2.For each key in d, if the value associated with that key has already been seen, return False; otherwise, append it to the list of values that we've seen so far.\n",
        "# 3.Once all the keys have been processed, return True because we didn't see a duplicate value."
      ]
    },
    {
      "cell_type": "markdown",
      "metadata": {
        "id": "QUTDxQ4_wHSU"
      },
      "source": [
        "### Exercise 8 ✅"
      ]
    },
    {
      "cell_type": "markdown",
      "metadata": {
        "id": "q2kSYx18wZ0S"
      },
      "source": [
        "You are conducting a survey with an ordered list of questions to which people can answer\n",
        "```Y``` or ```N``` (\"yes\" or \"no\"). You need to keep track of each person's responses so that you can find out which questions they answered ```Y``` to and which questions they answered ```N``` to. Which of the following data structures could be used to represent one person's responses to the questions?"
      ]
    },
    {
      "cell_type": "code",
      "execution_count": null,
      "metadata": {
        "id": "fOSwCXavWaJM"
      },
      "outputs": [],
      "source": [
        "# A dictionary of {str: list of int}, where each key is a response (either 'Y' or 'N'), and each value is a list of question numbers for which the person provided that response.\n",
        "# This structure allows you to easily associate each response ('Y' or 'N') with the corresponding question numbers.\n",
        "# You can quickly retrieve the list of questions for a specific response."
      ]
    },
    {
      "cell_type": "code",
      "execution_count": null,
      "metadata": {
        "id": "PvuDueKdX23c"
      },
      "outputs": [],
      "source": [
        "# A list of str, where each character is either 'Y' or 'N'.\n",
        "# This structure provides a simple and compact representation of the person's responses.\n",
        "# The order of responses in the list corresponds directly to the order of questions."
      ]
    },
    {
      "cell_type": "markdown",
      "metadata": {
        "id": "fXShGefAwH4M"
      },
      "source": [
        "### Exercise 9 ✅"
      ]
    },
    {
      "cell_type": "markdown",
      "metadata": {
        "id": "GMfb6lbWwaSK"
      },
      "source": [
        "A cycling time trial race is a race in which each cyclist aims to finish in the fastest time. (All the cyclists start at different times, rather than everyone starting at the same time.)  There may be ties.\n",
        "\n",
        "Your job is to determine which data structure to use to keep track of the names and times of the cyclists. The data structure will initially be empty and when a cyclist crosses the finish line, their data will be added to the data structure.\n",
        "\n",
        " Which of the following data structures could be used to represent all the cyclists and their times? You may assume that the names of the cyclists are unique."
      ]
    },
    {
      "cell_type": "code",
      "execution_count": null,
      "metadata": {
        "id": "aR6g8kKcX9Jk"
      },
      "outputs": [],
      "source": [
        "# A dict of {str: float}, where each key is a cyclist and each value is a time.\n",
        "# A list of [str, float] lists, where each inner list represents [cyclist, time]. The outer list is ordered from fastest time to slowest time.\n",
        "# Parallel lists, where one is a list of str and the other is a list of float: the list of cyclists, and the list of their times. The lists are sorted by the order in which the cyclists cross the finish line (which is not the same as how long they took)."
      ]
    },
    {
      "cell_type": "markdown",
      "metadata": {
        "id": "-GLZjeMawR9D"
      },
      "source": [
        "### Exercise 10 ✅"
      ]
    },
    {
      "cell_type": "markdown",
      "metadata": {
        "id": "Ivj1i6oqWMfT"
      },
      "source": [
        "This question is a followup to the previous question about cycling time trials.\n",
        "\n",
        "Now that the race is over, you need to determine the three fastest cyclists. (Assume there are no ties among the top three.)\n",
        "\n",
        "Which data structure will make it easiest to look up the three fastest cyclists? You may assume that the names of the cyclists are unique."
      ]
    },
    {
      "cell_type": "code",
      "execution_count": null,
      "metadata": {
        "id": "556B0cc9WPc0"
      },
      "outputs": [],
      "source": [
        "# A list of [str, float] lists, where each inner list represents [cyclist, time]. The outer list is ordered from fastest time to slowest time."
      ]
    },
    {
      "cell_type": "markdown",
      "metadata": {
        "id": "js6HKlU-wSu6"
      },
      "source": [
        "### Exercise 11 ✅"
      ]
    },
    {
      "cell_type": "markdown",
      "metadata": {
        "id": "zqg7vNgtwbOR"
      },
      "source": [
        "A weather file has the following format, where each city line contains a city name and the number of millimeters of precipitation for each day of that month.\n",
        "\n",
        "Monthly data is separated by a single blank line.\n",
        "\n",
        "```\n",
        "Jan\n",
        "Toronto: 3.5,0,1.8,0,...\n",
        "Montreal: 1.5,0,0,0,...\n",
        "Vancouver: 0,8.6,23.6,19.2,...\n",
        "\n",
        "Feb\n",
        "Toronto: 0,0,1.5,1.2,...\n",
        "Montreal: 0.4,0,0.3,0.4,...\n",
        "Vancouver: 14,0,0.2,0.2,...\n",
        "\n",
        "...\n",
        "\n",
        "Dec\n",
        "Toronto: 1.3,13.7,0.6,3.8,...\n",
        "Montreal: 0,7.7,0,6.9,\n",
        "Vancouver: 15.2,21.4,11.4,14.6,...\n",
        "```\n",
        "\n"
      ]
    },
    {
      "cell_type": "markdown",
      "metadata": {
        "id": "V13PCwI9Vp30"
      },
      "source": [
        "This problem involves a weather dictionary in which the keys are month names and the values are dictionaries containing information about precipitation in cities for that month.\n",
        "\n",
        "In each of the nested dictionaries, the keys are city names and the values are lists of millimetres of precipitation for each day that month, in order. We'll refer to these nested dictionaries as \"city to precipitation\" dictionaries.\n",
        "\n",
        "Select the algorithm(s) that can be used to determine the city that had the maximum total precipitation in February.  (You can break ties any way you like, or you can assume that there are no ties. Either is fine.)"
      ]
    },
    {
      "cell_type": "code",
      "execution_count": null,
      "metadata": {
        "id": "XdMuBUMyVtec"
      },
      "outputs": [],
      "source": [
        "# 1. Build the weather dictionary.\n",
        "# 2. Look up key 'Feb' in the weather dictionary to get the \"city to precipitation\" dictionary for February.\n",
        "# 3. Iterate through the cities in that dictionary, calculating the sum of the precipitation amounts for that city. Keep track of the city that has the most precipitation so far.\n",
        "# 4. Once the iteration is complete, whichever city had the most precipitation is the answer."
      ]
    },
    {
      "cell_type": "code",
      "execution_count": null,
      "metadata": {
        "id": "R8Ja2kIzYLFq"
      },
      "outputs": [],
      "source": [
        "# 1. Build the weather dictionary.\n",
        "# 2. Look up key 'Feb' in the weather dictionary to get the \"city to precipitation\" dictionary for February.\n",
        "# 3. Create a dictionary where the keys are cities, and the values are the sum of the precipitation amounts for that city for February.\n",
        "# 4. Find the maximum value in that dictionary of city maximums. The answer is the key associated with that maximum."
      ]
    },
    {
      "cell_type": "markdown",
      "metadata": {
        "id": "CJ743mhFwTgq"
      },
      "source": [
        "### Exercise 12 ❌"
      ]
    },
    {
      "cell_type": "markdown",
      "metadata": {
        "id": "lB1JM6nqwUoi"
      },
      "source": [
        "This question also involves a weather file and a weather dictionary.  Please see the previous question for details.\n",
        "\n",
        "Select the algorithm(s) that can be used to make a list of the days in which no city had precipitation — we'll call this the \"zero-precipitation list\".  Each day should be a tuple of (month name, day number).  For example, if all cities in the \"city to precipitation\" dictionary for February had no precipitation on the very first day, then ```(’Feb’, 1)``` would be in the resulting list.\n",
        "\n",
        "Note: in the weather dictionary, the list of precipitation amounts starts at index 0; to get the corresponding day number for an index, just add 1.\n",
        "\n",
        "Hint: You will probably find this question easier to do if you take notes about the problem on a piece of paper, including drawing a small example weather dictionary.\n",
        "\n"
      ]
    }
  ],
  "metadata": {
    "colab": {
      "collapsed_sections": [
        "RuBYXxrCp7VE",
        "6tSjWW3WrJwb",
        "b-KkeLZGwCs1",
        "sDm1DiBhwD4M",
        "6EvbPobAwEis",
        "w_W77fUDwFLs",
        "jRPg8VsvwFtk",
        "BrCS9Y6SwGpk",
        "QUTDxQ4_wHSU",
        "fXShGefAwH4M",
        "-GLZjeMawR9D",
        "js6HKlU-wSu6"
      ],
      "provenance": [],
      "toc_visible": true
    },
    "kernelspec": {
      "display_name": "Python 3",
      "name": "python3"
    },
    "language_info": {
      "name": "python"
    }
  },
  "nbformat": 4,
  "nbformat_minor": 0
}
